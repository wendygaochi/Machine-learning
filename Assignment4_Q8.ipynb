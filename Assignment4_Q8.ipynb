{
 "cells": [
  {
   "cell_type": "markdown",
   "metadata": {},
   "source": [
    "### Machine Learning Assignment 3 - Wendy Gao"
   ]
  },
  {
   "cell_type": "code",
   "execution_count": 2,
   "metadata": {
    "collapsed": true
   },
   "outputs": [],
   "source": [
    "%matplotlib inline"
   ]
  },
  {
   "cell_type": "code",
   "execution_count": 141,
   "metadata": {
    "collapsed": true
   },
   "outputs": [],
   "source": [
    "import numpy as np\n",
    "import pandas as pd\n",
    "import matplotlib.pyplot as plt\n",
    "from sklearn import cross_validation\n",
    "from sklearn.linear_model import LogisticRegression\n",
    "from sklearn.cross_validation import train_test_split\n",
    "from sklearn.grid_search import GridSearchCV\n",
    "from sklearn.model_selection import LeaveOneOut,cross_val_score\n",
    "from sklearn.metrics import confusion_matrix, accuracy_score, classification_report, roc_curve, roc_auc_score\n",
    "import seaborn as sns"
   ]
  },
  {
   "cell_type": "markdown",
   "metadata": {},
   "source": [
    "### Exercise 5"
   ]
  },
  {
   "cell_type": "code",
   "execution_count": 3,
   "metadata": {
    "collapsed": true
   },
   "outputs": [],
   "source": [
    "Default = pd.read_csv(\"Default.csv\")"
   ]
  },
  {
   "cell_type": "code",
   "execution_count": 4,
   "metadata": {},
   "outputs": [
    {
     "data": {
      "text/html": [
       "<div>\n",
       "<style>\n",
       "    .dataframe thead tr:only-child th {\n",
       "        text-align: right;\n",
       "    }\n",
       "\n",
       "    .dataframe thead th {\n",
       "        text-align: left;\n",
       "    }\n",
       "\n",
       "    .dataframe tbody tr th {\n",
       "        vertical-align: top;\n",
       "    }\n",
       "</style>\n",
       "<table border=\"1\" class=\"dataframe\">\n",
       "  <thead>\n",
       "    <tr style=\"text-align: right;\">\n",
       "      <th></th>\n",
       "      <th>default</th>\n",
       "      <th>student</th>\n",
       "      <th>balance</th>\n",
       "      <th>income</th>\n",
       "    </tr>\n",
       "  </thead>\n",
       "  <tbody>\n",
       "    <tr>\n",
       "      <th>0</th>\n",
       "      <td>No</td>\n",
       "      <td>No</td>\n",
       "      <td>729.526495</td>\n",
       "      <td>44361.625074</td>\n",
       "    </tr>\n",
       "    <tr>\n",
       "      <th>1</th>\n",
       "      <td>No</td>\n",
       "      <td>Yes</td>\n",
       "      <td>817.180407</td>\n",
       "      <td>12106.134700</td>\n",
       "    </tr>\n",
       "    <tr>\n",
       "      <th>2</th>\n",
       "      <td>No</td>\n",
       "      <td>No</td>\n",
       "      <td>1073.549164</td>\n",
       "      <td>31767.138947</td>\n",
       "    </tr>\n",
       "    <tr>\n",
       "      <th>3</th>\n",
       "      <td>No</td>\n",
       "      <td>No</td>\n",
       "      <td>529.250605</td>\n",
       "      <td>35704.493935</td>\n",
       "    </tr>\n",
       "    <tr>\n",
       "      <th>4</th>\n",
       "      <td>No</td>\n",
       "      <td>No</td>\n",
       "      <td>785.655883</td>\n",
       "      <td>38463.495879</td>\n",
       "    </tr>\n",
       "  </tbody>\n",
       "</table>\n",
       "</div>"
      ],
      "text/plain": [
       "  default student      balance        income\n",
       "0      No      No   729.526495  44361.625074\n",
       "1      No     Yes   817.180407  12106.134700\n",
       "2      No      No  1073.549164  31767.138947\n",
       "3      No      No   529.250605  35704.493935\n",
       "4      No      No   785.655883  38463.495879"
      ]
     },
     "execution_count": 4,
     "metadata": {},
     "output_type": "execute_result"
    }
   ],
   "source": [
    "Default.head()"
   ]
  },
  {
   "cell_type": "code",
   "execution_count": 59,
   "metadata": {
    "collapsed": true
   },
   "outputs": [],
   "source": [
    "X = Default.iloc[:,2:4]\n",
    "y = Default['default']"
   ]
  },
  {
   "cell_type": "code",
   "execution_count": 13,
   "metadata": {
    "collapsed": true
   },
   "outputs": [],
   "source": [
    "# construct a linear regression model with no regularization\n",
    "logit = LogisticRegression(C=1e5)"
   ]
  },
  {
   "cell_type": "code",
   "execution_count": 14,
   "metadata": {},
   "outputs": [
    {
     "data": {
      "text/plain": [
       "LogisticRegression(C=100000.0, class_weight=None, dual=False,\n",
       "          fit_intercept=True, intercept_scaling=1, max_iter=100,\n",
       "          multi_class='ovr', n_jobs=1, penalty='l2', random_state=None,\n",
       "          solver='liblinear', tol=0.0001, verbose=0, warm_start=False)"
      ]
     },
     "execution_count": 14,
     "metadata": {},
     "output_type": "execute_result"
    }
   ],
   "source": [
    "logit.fit(X,y)"
   ]
  },
  {
   "cell_type": "code",
   "execution_count": 20,
   "metadata": {},
   "outputs": [
    {
     "data": {
      "text/plain": [
       "array(['No', 'No', 'No', ..., 'No', 'No', 'No'], dtype=object)"
      ]
     },
     "execution_count": 20,
     "metadata": {},
     "output_type": "execute_result"
    }
   ],
   "source": [
    "preds = logit.predict(X)\n",
    "preds"
   ]
  },
  {
   "cell_type": "markdown",
   "metadata": {},
   "source": [
    "#### Using the validation set approach, estimate the test error of this model."
   ]
  },
  {
   "cell_type": "code",
   "execution_count": 25,
   "metadata": {
    "collapsed": true
   },
   "outputs": [],
   "source": [
    "X_train, X_test, y_train, y_test = train_test_split(X, y, train_size=0.7, random_state=10)"
   ]
  },
  {
   "cell_type": "code",
   "execution_count": 26,
   "metadata": {},
   "outputs": [
    {
     "data": {
      "text/plain": [
       "array(['No', 'No', 'No', ..., 'No', 'No', 'No'], dtype=object)"
      ]
     },
     "execution_count": 26,
     "metadata": {},
     "output_type": "execute_result"
    }
   ],
   "source": [
    "logit.fit(X_train,y_train)\n",
    "train_preds = logit.predict(X_train)\n",
    "train_preds"
   ]
  },
  {
   "cell_type": "code",
   "execution_count": 39,
   "metadata": {},
   "outputs": [
    {
     "data": {
      "text/plain": [
       "array(['No', 'No', 'No', ..., 'No', 'No', 'No'], \n",
       "      dtype='|S3')"
      ]
     },
     "execution_count": 39,
     "metadata": {},
     "output_type": "execute_result"
    }
   ],
   "source": [
    "test_probs = logit.predict_proba(X_test)[:,0]\n",
    "test_pred = np.where(test_probs>0.5,\"No\",\"Yes\")\n",
    "test_pred"
   ]
  },
  {
   "cell_type": "code",
   "execution_count": 45,
   "metadata": {},
   "outputs": [
    {
     "data": {
      "text/plain": [
       "0.0377"
      ]
     },
     "execution_count": 45,
     "metadata": {},
     "output_type": "execute_result"
    }
   ],
   "source": [
    "round(np.mean(test_pred!=y_test),4)"
   ]
  },
  {
   "cell_type": "markdown",
   "metadata": {},
   "source": [
    "* We have a 3.77% test error rate with the validation set approach."
   ]
  },
  {
   "cell_type": "markdown",
   "metadata": {},
   "source": [
    "#### Repeat the process in (b) three times, using three different splits of the observations into a training set and a validation set. Comment on the results obtained."
   ]
  },
  {
   "cell_type": "code",
   "execution_count": 51,
   "metadata": {
    "collapsed": true
   },
   "outputs": [],
   "source": [
    "error_rate = np.zeros(3)\n",
    "randomindex = [12,34,56]\n",
    "i=0\n",
    "for i in range(3):\n",
    "    X_train, X_test, y_train, y_test = train_test_split(X, y, train_size=0.7, random_state=randomindex[i])\n",
    "    logit.fit(X_train,y_train)\n",
    "    train_preds = logit.predict(X_train)\n",
    "    test_probs = logit.predict_proba(X_test)[:,0]\n",
    "    test_pred = np.where(test_probs>0.5,\"No\",\"Yes\")\n",
    "    error_rate[i] = round(np.mean(test_pred!=y_test),4)\n",
    "    i = i+1"
   ]
  },
  {
   "cell_type": "code",
   "execution_count": 52,
   "metadata": {},
   "outputs": [
    {
     "data": {
      "text/plain": [
       "array([ 0.036 ,  0.0297,  0.0327])"
      ]
     },
     "execution_count": 52,
     "metadata": {},
     "output_type": "execute_result"
    }
   ],
   "source": [
    "error_rate"
   ]
  },
  {
   "cell_type": "markdown",
   "metadata": {},
   "source": [
    "* Based on above results we could notice that the error rate can be variable, depending on which observations are included in the training set and which observations are included in the validation set."
   ]
  },
  {
   "cell_type": "markdown",
   "metadata": {},
   "source": [
    "#### Consider a logistic regression model that predicts the probability of default using income, balance, and a dummy variable for student"
   ]
  },
  {
   "cell_type": "code",
   "execution_count": 62,
   "metadata": {},
   "outputs": [
    {
     "data": {
      "text/html": [
       "<div>\n",
       "<style>\n",
       "    .dataframe thead tr:only-child th {\n",
       "        text-align: right;\n",
       "    }\n",
       "\n",
       "    .dataframe thead th {\n",
       "        text-align: left;\n",
       "    }\n",
       "\n",
       "    .dataframe tbody tr th {\n",
       "        vertical-align: top;\n",
       "    }\n",
       "</style>\n",
       "<table border=\"1\" class=\"dataframe\">\n",
       "  <thead>\n",
       "    <tr style=\"text-align: right;\">\n",
       "      <th></th>\n",
       "      <th>balance</th>\n",
       "      <th>income</th>\n",
       "      <th>No</th>\n",
       "      <th>Yes</th>\n",
       "    </tr>\n",
       "  </thead>\n",
       "  <tbody>\n",
       "    <tr>\n",
       "      <th>0</th>\n",
       "      <td>729.526495</td>\n",
       "      <td>44361.625074</td>\n",
       "      <td>1</td>\n",
       "      <td>0</td>\n",
       "    </tr>\n",
       "    <tr>\n",
       "      <th>1</th>\n",
       "      <td>817.180407</td>\n",
       "      <td>12106.134700</td>\n",
       "      <td>0</td>\n",
       "      <td>1</td>\n",
       "    </tr>\n",
       "    <tr>\n",
       "      <th>2</th>\n",
       "      <td>1073.549164</td>\n",
       "      <td>31767.138947</td>\n",
       "      <td>1</td>\n",
       "      <td>0</td>\n",
       "    </tr>\n",
       "    <tr>\n",
       "      <th>3</th>\n",
       "      <td>529.250605</td>\n",
       "      <td>35704.493935</td>\n",
       "      <td>1</td>\n",
       "      <td>0</td>\n",
       "    </tr>\n",
       "    <tr>\n",
       "      <th>4</th>\n",
       "      <td>785.655883</td>\n",
       "      <td>38463.495879</td>\n",
       "      <td>1</td>\n",
       "      <td>0</td>\n",
       "    </tr>\n",
       "  </tbody>\n",
       "</table>\n",
       "</div>"
      ],
      "text/plain": [
       "       balance        income  No  Yes\n",
       "0   729.526495  44361.625074   1    0\n",
       "1   817.180407  12106.134700   0    1\n",
       "2  1073.549164  31767.138947   1    0\n",
       "3   529.250605  35704.493935   1    0\n",
       "4   785.655883  38463.495879   1    0"
      ]
     },
     "execution_count": 62,
     "metadata": {},
     "output_type": "execute_result"
    }
   ],
   "source": [
    "student = pd.get_dummies(Default['student'])\n",
    "new_X = pd.concat([X,student],axis=1)\n",
    "new_X.head()"
   ]
  },
  {
   "cell_type": "code",
   "execution_count": 66,
   "metadata": {},
   "outputs": [
    {
     "data": {
      "text/plain": [
       "0.036"
      ]
     },
     "execution_count": 66,
     "metadata": {},
     "output_type": "execute_result"
    }
   ],
   "source": [
    "X_train, X_test, y_train, y_test = train_test_split(new_X, y, train_size=0.7, random_state=12)\n",
    "logit.fit(X_train,y_train)\n",
    "train_preds = logit.predict(X_train)\n",
    "test_probs = logit.predict_proba(X_test)[:,0]\n",
    "test_pred = np.where(test_probs>0.5,\"No\",\"Yes\")\n",
    "round(np.mean(test_pred!=y_test),4)"
   ]
  },
  {
   "cell_type": "markdown",
   "metadata": {},
   "source": [
    "* Hence, it doesn’t seem that adding the “student” dummy variable leads to a reduction in the validation set estimate of the test error rate."
   ]
  },
  {
   "cell_type": "markdown",
   "metadata": {},
   "source": [
    "### Exercise 8"
   ]
  },
  {
   "cell_type": "code",
   "execution_count": 75,
   "metadata": {
    "collapsed": true
   },
   "outputs": [],
   "source": [
    "np.random.seed(1)\n",
    "y = np.random.normal(0,1,100)\n",
    "x = np.random.normal(0,1,100)\n",
    "y = x - 2*x**2 + np.random.normal(0,1,100)"
   ]
  },
  {
   "cell_type": "markdown",
   "metadata": {},
   "source": [
    "The form of the linear model is\n",
    "$$y=x - 2x^2+\\epsilon$$\n",
    "\n",
    "with $\\epsilon$ follow a $N(0,1)$ random variable. Hence we have n = 100, p = 2."
   ]
  },
  {
   "cell_type": "code",
   "execution_count": 76,
   "metadata": {},
   "outputs": [
    {
     "data": {
      "text/plain": [
       "<matplotlib.text.Text at 0x121cb6b50>"
      ]
     },
     "execution_count": 76,
     "metadata": {},
     "output_type": "execute_result"
    },
    {
     "data": {
      "image/png": "[encoded data removed]",
      "text/plain": [
       "<matplotlib.figure.Figure at 0x121c8e710>"
      ]
     },
     "metadata": {},
     "output_type": "display_data"
    }
   ],
   "source": [
    "plt.scatter(x,y)\n",
    "plt.xlabel(\"x\")\n",
    "plt.ylabel(\"y\")"
   ]
  },
  {
   "cell_type": "markdown",
   "metadata": {},
   "source": [
    "* The plot above suggests a curved relationship between x and y"
   ]
  },
  {
   "cell_type": "code",
   "execution_count": 118,
   "metadata": {},
   "outputs": [
    {
     "data": {
      "text/plain": [
       "(100,)"
      ]
     },
     "execution_count": 118,
     "metadata": {},
     "output_type": "execute_result"
    }
   ],
   "source": [
    "np.random.seed(1)\n",
    "df = pd.DataFrame([x, y])\n",
    "df = df.transpose()\n",
    "df.columns = [\"x\",\"y\"]\n",
    "x_data = df['x']\n",
    "y_data = df['y']"
   ]
  },
  {
   "cell_type": "code",
   "execution_count": 103,
   "metadata": {},
   "outputs": [
    {
     "name": "stderr",
     "output_type": "stream",
     "text": [
      "/Users/gaoweijie/anaconda/lib/python2.7/site-packages/statsmodels/compat/pandas.py:56: FutureWarning: The pandas.core.datetools module is deprecated and will be removed in a future version. Please use the pandas.tseries module instead.\n",
      "  from pandas.core import datetools\n"
     ]
    }
   ],
   "source": [
    "import statsmodels.api as sm\n",
    "import statsmodels.formula.api as smf"
   ]
  },
  {
   "cell_type": "code",
   "execution_count": 135,
   "metadata": {},
   "outputs": [
    {
     "name": "stdout",
     "output_type": "stream",
     "text": [
      "                            OLS Regression Results                            \n",
      "==============================================================================\n",
      "Dep. Variable:                      y   R-squared:                       0.088\n",
      "Model:                            OLS   Adj. R-squared:                  0.079\n",
      "Method:                 Least Squares   F-statistic:                     9.460\n",
      "Date:                Wed, 25 Oct 2017   Prob (F-statistic):            0.00272\n",
      "Time:                        14:39:59   Log-Likelihood:                -242.69\n",
      "No. Observations:                 100   AIC:                             489.4\n",
      "Df Residuals:                      98   BIC:                             494.6\n",
      "Df Model:                           1                                         \n",
      "Covariance Type:            nonrobust                                         \n",
      "==============================================================================\n",
      "                 coef    std err          t      P>|t|      [0.025      0.975]\n",
      "------------------------------------------------------------------------------\n",
      "Intercept     -1.7609      0.280     -6.278      0.000      -2.317      -1.204\n",
      "x              0.9134      0.297      3.076      0.003       0.324       1.503\n",
      "==============================================================================\n",
      "Omnibus:                       40.887   Durbin-Watson:                   1.957\n",
      "Prob(Omnibus):                  0.000   Jarque-Bera (JB):               83.786\n",
      "Skew:                          -1.645   Prob(JB):                     6.40e-19\n",
      "Kurtosis:                       6.048   Cond. No.                         1.19\n",
      "==============================================================================\n",
      "\n",
      "Warnings:\n",
      "[1] Standard Errors assume that the covariance matrix of the errors is correctly specified.\n"
     ]
    }
   ],
   "source": [
    "mod = smf.ols(formula='y ~ x', data=df)\n",
    "res = mod.fit()\n",
    "print(res.summary())"
   ]
  },
  {
   "cell_type": "code",
   "execution_count": 130,
   "metadata": {
    "collapsed": true
   },
   "outputs": [],
   "source": [
    "#Create a 100-fold cross validation set -- Leave one out\n",
    "fold = df.shape[0]\n",
    "kf=cross_validation.KFold(n=fold, n_folds=fold, shuffle=True, random_state=0)\n",
    "      \n",
    "RMSE = np.zeros((100))\n",
    "i=0\n",
    "for train_index, val_index in kf:\n",
    "    X_train, X_val = x_data[train_index], x_data[val_index]\n",
    "    y_train, y_val = y_data[train_index], y_data[val_index]\n",
    "    mod = smf.ols(formula='y ~ x', data=X_train)\n",
    "    res = mod.fit()\n",
    "    yhat = res.predict(X_val)\n",
    "    # calculate root mean square error\n",
    "    RMSE[i]=np.sqrt(sum((y_val-yhat)**2))\n",
    "    i=i+1"
   ]
  },
  {
   "cell_type": "code",
   "execution_count": 131,
   "metadata": {
    "scrolled": true
   },
   "outputs": [
    {
     "data": {
      "text/plain": [
       "array([  3.9424412 ,   1.19273124,   0.90789405,   0.6875414 ,\n",
       "         0.77104362,   1.29248404,   2.37788304,   2.50060439,\n",
       "         1.77581728,   3.97454808,   5.6779644 ,   4.83729627,\n",
       "         0.64059328,   0.37762959,   1.03137232,   1.92240352,\n",
       "         0.1850756 ,   6.52397857,   2.99452031,   0.47695128,\n",
       "         0.69700072,   2.45363763,   3.06247982,   1.75694049,\n",
       "         2.4095804 ,   3.48342902,   0.92256751,   0.25551088,\n",
       "         1.39347944,   3.11025659,   1.28753391,   2.37006454,\n",
       "         1.01799413,   7.37124239,  10.5377083 ,   1.36279802,\n",
       "         0.75037003,   3.76298923,   1.1847463 ,   0.88355312,\n",
       "         0.30791929,   1.83928457,   0.32429748,   1.42036575,\n",
       "         2.06357201,   0.92111816,   4.03546206,   1.176879  ,\n",
       "         1.12984737,   0.04253356,   1.46299185,   1.46115445,\n",
       "         0.92141773,   0.45197651,   1.91988019,   1.19667749,\n",
       "         0.24683394,   0.30383509,   5.69835134,   3.10056558,\n",
       "         2.45545186,   1.18095502,   0.18532067,   2.30787041,\n",
       "         2.9284686 ,   1.15625394,   0.71072633,   1.78765472,\n",
       "         0.30860687,   1.82477107,   1.5909812 ,   0.14151069,\n",
       "         0.41750173,   2.228761  ,   0.43961255,   6.32900582,\n",
       "         3.37447241,   0.86474142,  10.04622761,   2.80314631,\n",
       "         1.26108844,   1.62302617,   1.15388771,   2.37403317,\n",
       "         2.5855924 ,   2.88674929,   2.1912944 ,   1.51655446,\n",
       "         0.5111575 ,   1.7038438 ,   1.84299441,   0.08163286,\n",
       "         0.99472484,   0.55055174,   3.71764273,   1.50475463,\n",
       "         1.95063348,   1.44733342,   0.60646036,   0.38473683])"
      ]
     },
     "execution_count": 131,
     "metadata": {},
     "output_type": "execute_result"
    }
   ],
   "source": [
    "RMSE"
   ]
  },
  {
   "cell_type": "code",
   "execution_count": 132,
   "metadata": {},
   "outputs": [
    {
     "data": {
      "text/plain": [
       "1.9816035224140938"
      ]
     },
     "execution_count": 132,
     "metadata": {},
     "output_type": "execute_result"
    }
   ],
   "source": [
    "np.mean(RMSE)"
   ]
  },
  {
   "cell_type": "code",
   "execution_count": 134,
   "metadata": {
    "collapsed": true
   },
   "outputs": [],
   "source": [
    "#Create a 100-fold cross validation set -- Leave one out\n",
    "from sklearn import cross_validation\n",
    "fold = df.shape[0]\n",
    "kf=cross_validation.KFold(n=fold, n_folds=fold, shuffle=True, random_state=0)\n",
    "      \n",
    "RMSE = np.zeros((100))\n",
    "i=0\n",
    "for train_index, val_index in kf:\n",
    "    X_train, X_val = x_data[train_index], x_data[val_index]\n",
    "    y_train, y_val = y_data[train_index], y_data[val_index]\n",
    "    mod = smf.ols(formula='y ~ x + I(x ** 2.0)', data=X_train)\n",
    "    res = mod.fit()\n",
    "    yhat = res.predict(X_val)\n",
    "    # calculate root mean square error\n",
    "    RMSE[i]=np.sqrt(sum((y_val-yhat)**2))\n",
    "    i=i+1"
   ]
  },
  {
   "cell_type": "code",
   "execution_count": 136,
   "metadata": {},
   "outputs": [
    {
     "data": {
      "text/plain": [
       "0.77717863018349997"
      ]
     },
     "execution_count": 136,
     "metadata": {},
     "output_type": "execute_result"
    }
   ],
   "source": [
    "np.mean(RMSE)"
   ]
  },
  {
   "cell_type": "code",
   "execution_count": 137,
   "metadata": {
    "collapsed": true
   },
   "outputs": [],
   "source": [
    "#Create a 100-fold cross validation set -- Leave one out\n",
    "from sklearn import cross_validation\n",
    "fold = df.shape[0]\n",
    "kf=cross_validation.KFold(n=fold, n_folds=fold, shuffle=True, random_state=0)\n",
    "      \n",
    "RMSE = np.zeros((100))\n",
    "i=0\n",
    "for train_index, val_index in kf:\n",
    "    X_train, X_val = x_data[train_index], x_data[val_index]\n",
    "    y_train, y_val = y_data[train_index], y_data[val_index]\n",
    "    mod = smf.ols(formula='y ~ x + I(x ** 2.0)+I(x ** 3.0)', data=X_train)\n",
    "    res = mod.fit()\n",
    "    yhat = res.predict(X_val)\n",
    "    # calculate root mean square error\n",
    "    RMSE[i]=np.sqrt(sum((y_val-yhat)**2))\n",
    "    i=i+1"
   ]
  },
  {
   "cell_type": "code",
   "execution_count": 138,
   "metadata": {},
   "outputs": [
    {
     "data": {
      "text/plain": [
       "0.77722996751398743"
      ]
     },
     "execution_count": 138,
     "metadata": {},
     "output_type": "execute_result"
    }
   ],
   "source": [
    "np.mean(RMSE)"
   ]
  },
  {
   "cell_type": "code",
   "execution_count": 139,
   "metadata": {
    "collapsed": true
   },
   "outputs": [],
   "source": [
    "#Create a 100-fold cross validation set -- Leave one out\n",
    "from sklearn import cross_validation\n",
    "fold = df.shape[0]\n",
    "kf=cross_validation.KFold(n=fold, n_folds=fold, shuffle=True, random_state=0)\n",
    "      \n",
    "RMSE = np.zeros((100))\n",
    "i=0\n",
    "for train_index, val_index in kf:\n",
    "    X_train, X_val = x_data[train_index], x_data[val_index]\n",
    "    y_train, y_val = y_data[train_index], y_data[val_index]\n",
    "    mod = smf.ols(formula='y ~ x + I(x ** 2.0)+I(x ** 3.0)+I(x ** 4.0)', data=X_train)\n",
    "    res = mod.fit()\n",
    "    yhat = res.predict(X_val)\n",
    "    # calculate root mean square error\n",
    "    RMSE[i]=np.sqrt(sum((y_val-yhat)**2))\n",
    "    i=i+1"
   ]
  },
  {
   "cell_type": "code",
   "execution_count": 140,
   "metadata": {},
   "outputs": [
    {
     "data": {
      "text/plain": [
       "0.76717737545444076"
      ]
     },
     "execution_count": 140,
     "metadata": {},
     "output_type": "execute_result"
    }
   ],
   "source": [
    "np.mean(RMSE)"
   ]
  },
  {
   "cell_type": "code",
   "execution_count": null,
   "metadata": {
    "collapsed": true
   },
   "outputs": [],
   "source": [
    "# Repeat (c) using another random seed"
   ]
  },
  {
   "cell_type": "code",
   "execution_count": 142,
   "metadata": {},
   "outputs": [
    {
     "data": {
      "text/plain": [
       "1.9816035224140938"
      ]
     },
     "execution_count": 142,
     "metadata": {},
     "output_type": "execute_result"
    }
   ],
   "source": [
    "#Create a 100-fold cross validation set -- Leave one out\n",
    "fold = df.shape[0]\n",
    "kf=cross_validation.KFold(n=fold, n_folds=fold, shuffle=True, random_state=123)\n",
    "      \n",
    "RMSE = np.zeros((100))\n",
    "i=0\n",
    "for train_index, val_index in kf:\n",
    "    X_train, X_val = x_data[train_index], x_data[val_index]\n",
    "    y_train, y_val = y_data[train_index], y_data[val_index]\n",
    "    mod = smf.ols(formula='y ~ x', data=X_train)\n",
    "    res = mod.fit()\n",
    "    yhat = res.predict(X_val)\n",
    "    # calculate root mean square error\n",
    "    RMSE[i]=np.sqrt(sum((y_val-yhat)**2))\n",
    "    i=i+1\n",
    "    \n",
    "np.mean(RMSE)"
   ]
  },
  {
   "cell_type": "code",
   "execution_count": 143,
   "metadata": {},
   "outputs": [
    {
     "data": {
      "text/plain": [
       "0.77717863018349997"
      ]
     },
     "execution_count": 143,
     "metadata": {},
     "output_type": "execute_result"
    }
   ],
   "source": [
    "#Create a 100-fold cross validation set -- Leave one out\n",
    "fold = df.shape[0]\n",
    "kf=cross_validation.KFold(n=fold, n_folds=fold, shuffle=True, random_state=0)\n",
    "      \n",
    "RMSE = np.zeros((100))\n",
    "i=0\n",
    "for train_index, val_index in kf:\n",
    "    X_train, X_val = x_data[train_index], x_data[val_index]\n",
    "    y_train, y_val = y_data[train_index], y_data[val_index]\n",
    "    mod = smf.ols(formula='y ~ x + I(x ** 2.0)', data=X_train)\n",
    "    res = mod.fit()\n",
    "    yhat = res.predict(X_val)\n",
    "    # calculate root mean square error\n",
    "    RMSE[i]=np.sqrt(sum((y_val-yhat)**2))\n",
    "    i=i+1\n",
    "    \n",
    "np.mean(RMSE)"
   ]
  },
  {
   "cell_type": "code",
   "execution_count": 144,
   "metadata": {},
   "outputs": [
    {
     "data": {
      "text/plain": [
       "0.77722996751398743"
      ]
     },
     "execution_count": 144,
     "metadata": {},
     "output_type": "execute_result"
    }
   ],
   "source": [
    "#Create a 100-fold cross validation set -- Leave one out\n",
    "fold = df.shape[0]\n",
    "kf=cross_validation.KFold(n=fold, n_folds=fold, shuffle=True, random_state=0)\n",
    "      \n",
    "RMSE = np.zeros((100))\n",
    "i=0\n",
    "for train_index, val_index in kf:\n",
    "    X_train, X_val = x_data[train_index], x_data[val_index]\n",
    "    y_train, y_val = y_data[train_index], y_data[val_index]\n",
    "    mod = smf.ols(formula='y ~ x + I(x ** 2.0)+I(x ** 3.0)', data=X_train)\n",
    "    res = mod.fit()\n",
    "    yhat = res.predict(X_val)\n",
    "    # calculate root mean square error\n",
    "    RMSE[i]=np.sqrt(sum((y_val-yhat)**2))\n",
    "    i=i+1\n",
    "    \n",
    "np.mean(RMSE)"
   ]
  },
  {
   "cell_type": "code",
   "execution_count": 145,
   "metadata": {},
   "outputs": [
    {
     "data": {
      "text/plain": [
       "0.76717737545444076"
      ]
     },
     "execution_count": 145,
     "metadata": {},
     "output_type": "execute_result"
    }
   ],
   "source": [
    "#Create a 100-fold cross validation set -- Leave one out\n",
    "fold = df.shape[0]\n",
    "kf=cross_validation.KFold(n=fold, n_folds=fold, shuffle=True, random_state=0)\n",
    "      \n",
    "RMSE = np.zeros((100))\n",
    "i=0\n",
    "for train_index, val_index in kf:\n",
    "    X_train, X_val = x_data[train_index], x_data[val_index]\n",
    "    y_train, y_val = y_data[train_index], y_data[val_index]\n",
    "    mod = smf.ols(formula='y ~ x + I(x ** 2.0)+I(x ** 3.0)+I(x ** 4.0)', data=X_train)\n",
    "    res = mod.fit()\n",
    "    yhat = res.predict(X_val)\n",
    "    # calculate root mean square error\n",
    "    RMSE[i]=np.sqrt(sum((y_val-yhat)**2))\n",
    "    i=i+1\n",
    "    \n",
    "np.mean(RMSE)"
   ]
  },
  {
   "cell_type": "markdown",
   "metadata": {},
   "source": [
    "* The results above are identical to the results obtained in (c) since LOOCV evaluates n folds of a single observation."
   ]
  },
  {
   "cell_type": "markdown",
   "metadata": {},
   "source": [
    "* We may see that the LOOCV estimate for the test MSE is minimum for our last model, this is not surprising as when we increase the power and complexity of model we are tend to have a lower root mean square error, however in this case we are more likely to over-fitting the data. And as we could notice that the error decrease significantly when we introduce a quadratic term and since we saw plot in (b) that the relation between “x” and “y” is quadratic,so we might want to draw the conclution that the quadratic model is the best one."
   ]
  },
  {
   "cell_type": "code",
   "execution_count": 147,
   "metadata": {},
   "outputs": [
    {
     "name": "stdout",
     "output_type": "stream",
     "text": [
      "                            OLS Regression Results                            \n",
      "==============================================================================\n",
      "Dep. Variable:                      y   R-squared:                       0.885\n",
      "Model:                            OLS   Adj. R-squared:                  0.880\n",
      "Method:                 Least Squares   F-statistic:                     182.4\n",
      "Date:                Wed, 25 Oct 2017   Prob (F-statistic):           1.13e-43\n",
      "Time:                        15:03:01   Log-Likelihood:                -139.24\n",
      "No. Observations:                 100   AIC:                             288.5\n",
      "Df Residuals:                      95   BIC:                             301.5\n",
      "Df Model:                           4                                         \n",
      "Covariance Type:            nonrobust                                         \n",
      "===============================================================================\n",
      "                  coef    std err          t      P>|t|      [0.025      0.975]\n",
      "-------------------------------------------------------------------------------\n",
      "Intercept       0.0866      0.144      0.600      0.550      -0.200       0.373\n",
      "x               1.0834      0.189      5.724      0.000       0.708       1.459\n",
      "I(x ** 2.0)    -2.2455      0.214    -10.505      0.000      -2.670      -1.821\n",
      "I(x ** 3.0)     0.0436      0.058      0.755      0.452      -0.071       0.158\n",
      "I(x ** 4.0)     0.0482      0.043      1.132      0.260      -0.036       0.133\n",
      "==============================================================================\n",
      "Omnibus:                        0.102   Durbin-Watson:                   2.214\n",
      "Prob(Omnibus):                  0.950   Jarque-Bera (JB):                0.117\n",
      "Skew:                           0.069   Prob(JB):                        0.943\n",
      "Kurtosis:                       2.906   Cond. No.                         17.5\n",
      "==============================================================================\n",
      "\n",
      "Warnings:\n",
      "[1] Standard Errors assume that the covariance matrix of the errors is correctly specified.\n"
     ]
    }
   ],
   "source": [
    "mod = smf.ols(formula='y ~ x + I(x ** 2.0)+I(x ** 3.0)+I(x ** 4.0)', data=df)\n",
    "res = mod.fit()\n",
    "print(res.summary())"
   ]
  },
  {
   "cell_type": "markdown",
   "metadata": {},
   "source": [
    "* The p-values show that the linear and quadratic terms are statistically significants and that the cubic and 4th degree terms are not statistically significants. This again proves that quadratic model is the best one as when we increase the power, we are tend to fit the noises."
   ]
  }
 ],
 "metadata": {
  "kernelspec": {
   "display_name": "Python 2",
   "language": "python",
   "name": "python2"
  },
  "language_info": {
   "codemirror_mode": {
    "name": "ipython",
    "version": 2
   },
   "file_extension": ".py",
   "mimetype": "text/x-python",
   "name": "python",
   "nbconvert_exporter": "python",
   "pygments_lexer": "ipython2",
   "version": "2.7.14"
  }
 },
 "nbformat": 4,
 "nbformat_minor": 2
}

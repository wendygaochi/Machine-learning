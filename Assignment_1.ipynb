{
 "cells": [
  {
   "cell_type": "code",
   "execution_count": 9,
   "metadata": {
    "collapsed": true
   },
   "outputs": [],
   "source": [
    "import pandas as pd\n",
    "import seaborn as sns\n",
    "import numpy as np\n",
    "import matplotlib.pylab as plt\n",
    "from sklearn.linear_model import LinearRegression\n",
    "%matplotlib inline"
   ]
  },
  {
   "cell_type": "code",
   "execution_count": 16,
   "metadata": {
    "collapsed": true
   },
   "outputs": [],
   "source": [
    "carseats = pd.read_csv(\"Carseats.csv\")"
   ]
  },
  {
   "cell_type": "code",
   "execution_count": 4,
   "metadata": {},
   "outputs": [
    {
     "data": {
      "text/plain": [
       "(400, 11)"
      ]
     },
     "execution_count": 4,
     "metadata": {},
     "output_type": "execute_result"
    }
   ],
   "source": [
    "carseats.shape"
   ]
  },
  {
   "cell_type": "code",
   "execution_count": 3,
   "metadata": {},
   "outputs": [
    {
     "name": "stdout",
     "output_type": "stream",
     "text": [
      "<class 'pandas.core.frame.DataFrame'>\n",
      "RangeIndex: 400 entries, 0 to 399\n",
      "Data columns (total 11 columns):\n",
      "Sales          400 non-null float64\n",
      "CompPrice      400 non-null int64\n",
      "Income         400 non-null int64\n",
      "Advertising    400 non-null int64\n",
      "Population     400 non-null int64\n",
      "Price          400 non-null int64\n",
      "ShelveLoc      400 non-null object\n",
      "Age            400 non-null int64\n",
      "Education      400 non-null int64\n",
      "Urban          400 non-null object\n",
      "US             400 non-null object\n",
      "dtypes: float64(1), int64(7), object(3)\n",
      "memory usage: 34.4+ KB\n"
     ]
    }
   ],
   "source": [
    "carseats.info()"
   ]
  },
  {
   "cell_type": "code",
   "execution_count": 6,
   "metadata": {},
   "outputs": [
    {
     "data": {
      "text/html": [
       "<div>\n",
       "<style>\n",
       "    .dataframe thead tr:only-child th {\n",
       "        text-align: right;\n",
       "    }\n",
       "\n",
       "    .dataframe thead th {\n",
       "        text-align: left;\n",
       "    }\n",
       "\n",
       "    .dataframe tbody tr th {\n",
       "        vertical-align: top;\n",
       "    }\n",
       "</style>\n",
       "<table border=\"1\" class=\"dataframe\">\n",
       "  <thead>\n",
       "    <tr style=\"text-align: right;\">\n",
       "      <th></th>\n",
       "      <th>Sales</th>\n",
       "      <th>CompPrice</th>\n",
       "      <th>Income</th>\n",
       "      <th>Advertising</th>\n",
       "      <th>Population</th>\n",
       "      <th>Price</th>\n",
       "      <th>ShelveLoc</th>\n",
       "      <th>Age</th>\n",
       "      <th>Education</th>\n",
       "      <th>Urban</th>\n",
       "      <th>US</th>\n",
       "    </tr>\n",
       "  </thead>\n",
       "  <tbody>\n",
       "    <tr>\n",
       "      <th>0</th>\n",
       "      <td>9.50</td>\n",
       "      <td>138</td>\n",
       "      <td>73</td>\n",
       "      <td>11</td>\n",
       "      <td>276</td>\n",
       "      <td>120</td>\n",
       "      <td>Bad</td>\n",
       "      <td>42</td>\n",
       "      <td>17</td>\n",
       "      <td>Yes</td>\n",
       "      <td>Yes</td>\n",
       "    </tr>\n",
       "    <tr>\n",
       "      <th>1</th>\n",
       "      <td>11.22</td>\n",
       "      <td>111</td>\n",
       "      <td>48</td>\n",
       "      <td>16</td>\n",
       "      <td>260</td>\n",
       "      <td>83</td>\n",
       "      <td>Good</td>\n",
       "      <td>65</td>\n",
       "      <td>10</td>\n",
       "      <td>Yes</td>\n",
       "      <td>Yes</td>\n",
       "    </tr>\n",
       "    <tr>\n",
       "      <th>2</th>\n",
       "      <td>10.06</td>\n",
       "      <td>113</td>\n",
       "      <td>35</td>\n",
       "      <td>10</td>\n",
       "      <td>269</td>\n",
       "      <td>80</td>\n",
       "      <td>Medium</td>\n",
       "      <td>59</td>\n",
       "      <td>12</td>\n",
       "      <td>Yes</td>\n",
       "      <td>Yes</td>\n",
       "    </tr>\n",
       "    <tr>\n",
       "      <th>3</th>\n",
       "      <td>7.40</td>\n",
       "      <td>117</td>\n",
       "      <td>100</td>\n",
       "      <td>4</td>\n",
       "      <td>466</td>\n",
       "      <td>97</td>\n",
       "      <td>Medium</td>\n",
       "      <td>55</td>\n",
       "      <td>14</td>\n",
       "      <td>Yes</td>\n",
       "      <td>Yes</td>\n",
       "    </tr>\n",
       "    <tr>\n",
       "      <th>4</th>\n",
       "      <td>4.15</td>\n",
       "      <td>141</td>\n",
       "      <td>64</td>\n",
       "      <td>3</td>\n",
       "      <td>340</td>\n",
       "      <td>128</td>\n",
       "      <td>Bad</td>\n",
       "      <td>38</td>\n",
       "      <td>13</td>\n",
       "      <td>Yes</td>\n",
       "      <td>No</td>\n",
       "    </tr>\n",
       "  </tbody>\n",
       "</table>\n",
       "</div>"
      ],
      "text/plain": [
       "   Sales  CompPrice  Income  Advertising  Population  Price ShelveLoc  Age  \\\n",
       "0   9.50        138      73           11         276    120       Bad   42   \n",
       "1  11.22        111      48           16         260     83      Good   65   \n",
       "2  10.06        113      35           10         269     80    Medium   59   \n",
       "3   7.40        117     100            4         466     97    Medium   55   \n",
       "4   4.15        141      64            3         340    128       Bad   38   \n",
       "\n",
       "   Education Urban   US  \n",
       "0         17   Yes  Yes  \n",
       "1         10   Yes  Yes  \n",
       "2         12   Yes  Yes  \n",
       "3         14   Yes  Yes  \n",
       "4         13   Yes   No  "
      ]
     },
     "execution_count": 6,
     "metadata": {},
     "output_type": "execute_result"
    }
   ],
   "source": [
    "carseats.head()"
   ]
  },
  {
   "cell_type": "code",
   "execution_count": 18,
   "metadata": {},
   "outputs": [],
   "source": [
    "carseats[\"Urban\"] = carseats[\"Urban\"].astype('category')\n",
    "carseats[\"US\"] = carseats[\"US\"].astype('category')\n",
    "        \n",
    "carseats[\"Urban\"] = carseats[\"Urban\"].cat.codes\n",
    "carseats[\"US\"] = carseats[\"US\"].cat.codes"
   ]
  },
  {
   "cell_type": "code",
   "execution_count": 32,
   "metadata": {
    "collapsed": true
   },
   "outputs": [],
   "source": [
    "x_train = carseats[['Price','Urban','US']]\n",
    "y_train = carseats['Sales']"
   ]
  },
  {
   "cell_type": "code",
   "execution_count": 33,
   "metadata": {},
   "outputs": [
    {
     "data": {
      "text/html": [
       "<div>\n",
       "<style>\n",
       "    .dataframe thead tr:only-child th {\n",
       "        text-align: right;\n",
       "    }\n",
       "\n",
       "    .dataframe thead th {\n",
       "        text-align: left;\n",
       "    }\n",
       "\n",
       "    .dataframe tbody tr th {\n",
       "        vertical-align: top;\n",
       "    }\n",
       "</style>\n",
       "<table border=\"1\" class=\"dataframe\">\n",
       "  <thead>\n",
       "    <tr style=\"text-align: right;\">\n",
       "      <th></th>\n",
       "      <th>Price</th>\n",
       "      <th>Urban</th>\n",
       "      <th>US</th>\n",
       "    </tr>\n",
       "  </thead>\n",
       "  <tbody>\n",
       "    <tr>\n",
       "      <th>0</th>\n",
       "      <td>120</td>\n",
       "      <td>1</td>\n",
       "      <td>1</td>\n",
       "    </tr>\n",
       "    <tr>\n",
       "      <th>1</th>\n",
       "      <td>83</td>\n",
       "      <td>1</td>\n",
       "      <td>1</td>\n",
       "    </tr>\n",
       "    <tr>\n",
       "      <th>2</th>\n",
       "      <td>80</td>\n",
       "      <td>1</td>\n",
       "      <td>1</td>\n",
       "    </tr>\n",
       "    <tr>\n",
       "      <th>3</th>\n",
       "      <td>97</td>\n",
       "      <td>1</td>\n",
       "      <td>1</td>\n",
       "    </tr>\n",
       "    <tr>\n",
       "      <th>4</th>\n",
       "      <td>128</td>\n",
       "      <td>1</td>\n",
       "      <td>0</td>\n",
       "    </tr>\n",
       "  </tbody>\n",
       "</table>\n",
       "</div>"
      ],
      "text/plain": [
       "   Price  Urban  US\n",
       "0    120      1   1\n",
       "1     83      1   1\n",
       "2     80      1   1\n",
       "3     97      1   1\n",
       "4    128      1   0"
      ]
     },
     "execution_count": 33,
     "metadata": {},
     "output_type": "execute_result"
    }
   ],
   "source": [
    "x_train.head()"
   ]
  },
  {
   "cell_type": "code",
   "execution_count": 34,
   "metadata": {},
   "outputs": [
    {
     "data": {
      "text/plain": [
       "LinearRegression(copy_X=True, fit_intercept=True, n_jobs=1, normalize=False)"
      ]
     },
     "execution_count": 34,
     "metadata": {},
     "output_type": "execute_result"
    }
   ],
   "source": [
    "lm = LinearRegression()\n",
    "lm.fit(x_train, y_train)"
   ]
  },
  {
   "cell_type": "code",
   "execution_count": 35,
   "metadata": {},
   "outputs": [
    {
     "name": "stdout",
     "output_type": "stream",
     "text": [
      "13.0434689368\n",
      "[-0.05445885 -0.02191615  1.2005727 ]\n"
     ]
    }
   ],
   "source": [
    "print(lm.intercept_)\n",
    "print(lm.coef_)"
   ]
  },
  {
   "cell_type": "code",
   "execution_count": 36,
   "metadata": {},
   "outputs": [
    {
     "data": {
      "text/html": [
       "<div>\n",
       "<style>\n",
       "    .dataframe thead tr:only-child th {\n",
       "        text-align: right;\n",
       "    }\n",
       "\n",
       "    .dataframe thead th {\n",
       "        text-align: left;\n",
       "    }\n",
       "\n",
       "    .dataframe tbody tr th {\n",
       "        vertical-align: top;\n",
       "    }\n",
       "</style>\n",
       "<table border=\"1\" class=\"dataframe\">\n",
       "  <thead>\n",
       "    <tr style=\"text-align: right;\">\n",
       "      <th></th>\n",
       "      <th>Coefficient</th>\n",
       "    </tr>\n",
       "  </thead>\n",
       "  <tbody>\n",
       "    <tr>\n",
       "      <th>Price</th>\n",
       "      <td>-0.054459</td>\n",
       "    </tr>\n",
       "    <tr>\n",
       "      <th>Urban</th>\n",
       "      <td>-0.021916</td>\n",
       "    </tr>\n",
       "    <tr>\n",
       "      <th>US</th>\n",
       "      <td>1.200573</td>\n",
       "    </tr>\n",
       "  </tbody>\n",
       "</table>\n",
       "</div>"
      ],
      "text/plain": [
       "       Coefficient\n",
       "Price    -0.054459\n",
       "Urban    -0.021916\n",
       "US        1.200573"
      ]
     },
     "execution_count": 36,
     "metadata": {},
     "output_type": "execute_result"
    }
   ],
   "source": [
    "coeff_df = pd.DataFrame(lm.coef_,x_train.columns,columns=['Coefficient'])\n",
    "coeff_df"
   ]
  },
  {
   "cell_type": "code",
   "execution_count": 30,
   "metadata": {},
   "outputs": [],
   "source": [
    "import statsmodels.api as sm\n",
    "import statsmodels.formula.api as smf\n",
    "\n",
    "# np.random.seed(9876789)"
   ]
  },
  {
   "cell_type": "code",
   "execution_count": 37,
   "metadata": {},
   "outputs": [
    {
     "name": "stdout",
     "output_type": "stream",
     "text": [
      "                            OLS Regression Results                            \n",
      "==============================================================================\n",
      "Dep. Variable:                  Sales   R-squared:                       0.239\n",
      "Model:                            OLS   Adj. R-squared:                  0.234\n",
      "Method:                 Least Squares   F-statistic:                     41.52\n",
      "Date:                Wed, 11 Oct 2017   Prob (F-statistic):           2.39e-23\n",
      "Time:                        12:12:10   Log-Likelihood:                -927.66\n",
      "No. Observations:                 400   AIC:                             1863.\n",
      "Df Residuals:                     396   BIC:                             1879.\n",
      "Df Model:                           3                                         \n",
      "Covariance Type:            nonrobust                                         \n",
      "==============================================================================\n",
      "                 coef    std err          t      P>|t|      [0.025      0.975]\n",
      "------------------------------------------------------------------------------\n",
      "Intercept     13.0435      0.651     20.036      0.000      11.764      14.323\n",
      "Price         -0.0545      0.005    -10.389      0.000      -0.065      -0.044\n",
      "Urban         -0.0219      0.272     -0.081      0.936      -0.556       0.512\n",
      "US             1.2006      0.259      4.635      0.000       0.691       1.710\n",
      "==============================================================================\n",
      "Omnibus:                        0.676   Durbin-Watson:                   1.912\n",
      "Prob(Omnibus):                  0.713   Jarque-Bera (JB):                0.758\n",
      "Skew:                           0.093   Prob(JB):                        0.684\n",
      "Kurtosis:                       2.897   Cond. No.                         628.\n",
      "==============================================================================\n",
      "\n",
      "Warnings:\n",
      "[1] Standard Errors assume that the covariance matrix of the errors is correctly specified.\n"
     ]
    }
   ],
   "source": [
    "mod = smf.ols(formula='Sales ~ Price + Urban + US', data=carseats)\n",
    "res = mod.fit()\n",
    "print(res.summary())"
   ]
  },
  {
   "cell_type": "markdown",
   "metadata": {},
   "source": [
    "* The coefficient of the Price variable shows that the average effect of a price increase of 1 dollar\n",
    " is a decrease of 54.4588492 units in sales when all other predictors remaining fixed. \n",
    "* The coefficient of the Urban variable may be interpreted by saying that on average the unit sales in urban location are 21.91 units less than in rural location when all other predictors remaining fixed. \n",
    "* The coefficient of the “US” variable may be interpreted by saying that on average the unit sales in a US store are 1200.6 units more than in a non US store all other predictors remaining fixed."
   ]
  },
  {
   "cell_type": "markdown",
   "metadata": {},
   "source": [
    "#### The formula could be written as follows:\n",
    "$$Sales=13.0434689+(−0.0544588)×Price+(−0.0219162)×Urban+(1.2005727)×US+\\epsilon$$\n",
    "with Urban=1 if the store is in an urban location and 0 if not, and US=1if the store is in the US and 0 if not."
   ]
  },
  {
   "cell_type": "markdown",
   "metadata": {},
   "source": [
    "#### And since $p$ value for both $Price$ and $US$ variables are less than 0.05, we could reject the null hypothesis."
   ]
  },
  {
   "cell_type": "code",
   "execution_count": 38,
   "metadata": {},
   "outputs": [
    {
     "name": "stdout",
     "output_type": "stream",
     "text": [
      "                            OLS Regression Results                            \n",
      "==============================================================================\n",
      "Dep. Variable:                  Sales   R-squared:                       0.239\n",
      "Model:                            OLS   Adj. R-squared:                  0.235\n",
      "Method:                 Least Squares   F-statistic:                     62.43\n",
      "Date:                Wed, 11 Oct 2017   Prob (F-statistic):           2.66e-24\n",
      "Time:                        12:24:43   Log-Likelihood:                -927.66\n",
      "No. Observations:                 400   AIC:                             1861.\n",
      "Df Residuals:                     397   BIC:                             1873.\n",
      "Df Model:                           2                                         \n",
      "Covariance Type:            nonrobust                                         \n",
      "==============================================================================\n",
      "                 coef    std err          t      P>|t|      [0.025      0.975]\n",
      "------------------------------------------------------------------------------\n",
      "Intercept     13.0308      0.631     20.652      0.000      11.790      14.271\n",
      "Price         -0.0545      0.005    -10.416      0.000      -0.065      -0.044\n",
      "US             1.1996      0.258      4.641      0.000       0.692       1.708\n",
      "==============================================================================\n",
      "Omnibus:                        0.666   Durbin-Watson:                   1.912\n",
      "Prob(Omnibus):                  0.717   Jarque-Bera (JB):                0.749\n",
      "Skew:                           0.092   Prob(JB):                        0.688\n",
      "Kurtosis:                       2.895   Cond. No.                         607.\n",
      "==============================================================================\n",
      "\n",
      "Warnings:\n",
      "[1] Standard Errors assume that the covariance matrix of the errors is correctly specified.\n"
     ]
    }
   ],
   "source": [
    "mod = smf.ols(formula='Sales ~ Price + US', data=carseats)\n",
    "res = mod.fit()\n",
    "print(res.summary())"
   ]
  },
  {
   "cell_type": "markdown",
   "metadata": {},
   "source": [
    "* The R-squared for the smaller model is similar with the bigger model, but the value $AIC$ and $BIC$ are slightly smaller, hence we might say the smaller model is marginally better than the bigger model. "
   ]
  },
  {
   "cell_type": "code",
   "execution_count": 42,
   "metadata": {},
   "outputs": [],
   "source": [
    "conf = res.conf_int(alpha=0.05, cols= None)"
   ]
  },
  {
   "cell_type": "code",
   "execution_count": 44,
   "metadata": {},
   "outputs": [
    {
     "data": {
      "text/html": [
       "<div>\n",
       "<style>\n",
       "    .dataframe thead tr:only-child th {\n",
       "        text-align: right;\n",
       "    }\n",
       "\n",
       "    .dataframe thead th {\n",
       "        text-align: left;\n",
       "    }\n",
       "\n",
       "    .dataframe tbody tr th {\n",
       "        vertical-align: top;\n",
       "    }\n",
       "</style>\n",
       "<table border=\"1\" class=\"dataframe\">\n",
       "  <thead>\n",
       "    <tr style=\"text-align: right;\">\n",
       "      <th></th>\n",
       "      <th>2.5 %</th>\n",
       "      <th>97.5 %</th>\n",
       "    </tr>\n",
       "  </thead>\n",
       "  <tbody>\n",
       "    <tr>\n",
       "      <th>Intercept</th>\n",
       "      <td>11.79032</td>\n",
       "      <td>14.271265</td>\n",
       "    </tr>\n",
       "    <tr>\n",
       "      <th>Price</th>\n",
       "      <td>-0.06476</td>\n",
       "      <td>-0.044195</td>\n",
       "    </tr>\n",
       "    <tr>\n",
       "      <th>US</th>\n",
       "      <td>0.69152</td>\n",
       "      <td>1.707766</td>\n",
       "    </tr>\n",
       "  </tbody>\n",
       "</table>\n",
       "</div>"
      ],
      "text/plain": [
       "              2.5 %     97.5 %\n",
       "Intercept  11.79032  14.271265\n",
       "Price      -0.06476  -0.044195\n",
       "US          0.69152   1.707766"
      ]
     },
     "execution_count": 44,
     "metadata": {},
     "output_type": "execute_result"
    }
   ],
   "source": [
    "conf.columns = ['2.5 %','97.5 %']\n",
    "conf"
   ]
  },
  {
   "cell_type": "code",
   "execution_count": 45,
   "metadata": {
    "scrolled": true
   },
   "outputs": [
    {
     "data": {
      "image/png": "[encoded data removed]",
      "text/plain": [
       "<matplotlib.figure.Figure at 0x119c6dc50>"
      ]
     },
     "metadata": {},
     "output_type": "display_data"
    }
   ],
   "source": [
    "fig = plt.figure(figsize=(12,8))\n",
    "fig = sm.graphics.plot_regress_exog(res, \"Price\", fig=fig)"
   ]
  },
  {
   "cell_type": "markdown",
   "metadata": {},
   "source": [
    "#### Based on the above residual plot, we could see the presence of a few outliers."
   ]
  },
  {
   "cell_type": "markdown",
   "metadata": {},
   "source": [
    "### Problem 14"
   ]
  },
  {
   "cell_type": "code",
   "execution_count": 98,
   "metadata": {
    "collapsed": true
   },
   "outputs": [],
   "source": [
    "np.random.seed(1)\n",
    "x1 = np.random.uniform(0,1,100)\n",
    "x2 = 0.5 * x1 + np.random.normal(0,1,100)/10\n",
    "y = 2 + 2 * x1 + 0.3 * x2 + np.random.normal(0,1,100)"
   ]
  },
  {
   "cell_type": "markdown",
   "metadata": {},
   "source": [
    "The form of the linear model is\n",
    "$$Y=2+2X1+0.3X2+\\epsilon$$\n",
    "\n",
    "with $\\epsilon$ follow a $N(0,1)$ random variable. The regression coefficients are respectively 2 and 0.3."
   ]
  },
  {
   "cell_type": "code",
   "execution_count": 121,
   "metadata": {},
   "outputs": [
    {
     "data": {
      "text/html": [
       "<div>\n",
       "<style>\n",
       "    .dataframe thead tr:only-child th {\n",
       "        text-align: right;\n",
       "    }\n",
       "\n",
       "    .dataframe thead th {\n",
       "        text-align: left;\n",
       "    }\n",
       "\n",
       "    .dataframe tbody tr th {\n",
       "        vertical-align: top;\n",
       "    }\n",
       "</style>\n",
       "<table border=\"1\" class=\"dataframe\">\n",
       "  <thead>\n",
       "    <tr style=\"text-align: right;\">\n",
       "      <th></th>\n",
       "      <th>x1</th>\n",
       "      <th>x2</th>\n",
       "      <th>y</th>\n",
       "    </tr>\n",
       "  </thead>\n",
       "  <tbody>\n",
       "    <tr>\n",
       "      <th>0</th>\n",
       "      <td>0.417022</td>\n",
       "      <td>0.240074</td>\n",
       "      <td>2.949735</td>\n",
       "    </tr>\n",
       "    <tr>\n",
       "      <th>1</th>\n",
       "      <td>0.720324</td>\n",
       "      <td>0.157942</td>\n",
       "      <td>3.261717</td>\n",
       "    </tr>\n",
       "    <tr>\n",
       "      <th>2</th>\n",
       "      <td>0.000114</td>\n",
       "      <td>-0.030563</td>\n",
       "      <td>3.322517</td>\n",
       "    </tr>\n",
       "    <tr>\n",
       "      <th>3</th>\n",
       "      <td>0.302333</td>\n",
       "      <td>0.233964</td>\n",
       "      <td>2.387546</td>\n",
       "    </tr>\n",
       "    <tr>\n",
       "      <th>4</th>\n",
       "      <td>0.146756</td>\n",
       "      <td>0.096387</td>\n",
       "      <td>3.002498</td>\n",
       "    </tr>\n",
       "  </tbody>\n",
       "</table>\n",
       "</div>"
      ],
      "text/plain": [
       "         x1        x2         y\n",
       "0  0.417022  0.240074  2.949735\n",
       "1  0.720324  0.157942  3.261717\n",
       "2  0.000114 -0.030563  3.322517\n",
       "3  0.302333  0.233964  2.387546\n",
       "4  0.146756  0.096387  3.002498"
      ]
     },
     "execution_count": 121,
     "metadata": {},
     "output_type": "execute_result"
    }
   ],
   "source": [
    "df = pd.DataFrame([x1,x2,y])\n",
    "df = df.transpose()\n",
    "df.columns = ['x1','x2','y']\n",
    "df.head()"
   ]
  },
  {
   "cell_type": "code",
   "execution_count": 122,
   "metadata": {},
   "outputs": [
    {
     "name": "stdout",
     "output_type": "stream",
     "text": [
      "[[ 1.          0.83905962]\n",
      " [ 0.83905962  1.        ]]\n"
     ]
    }
   ],
   "source": [
    "print (np.corrcoef(x1,x2))"
   ]
  },
  {
   "cell_type": "code",
   "execution_count": 106,
   "metadata": {},
   "outputs": [
    {
     "data": {
      "image/png": "[encoded data removed]",
      "text/plain": [
       "<matplotlib.figure.Figure at 0x11a50a990>"
      ]
     },
     "metadata": {},
     "output_type": "display_data"
    }
   ],
   "source": [
    "plt.scatter(x1, x2)\n",
    "plt.xlabel(\"x1\")\n",
    "plt.ylabel(\"x2\")\n",
    "plt.show()"
   ]
  },
  {
   "cell_type": "markdown",
   "metadata": {},
   "source": [
    "* The two variables are positively correlated."
   ]
  },
  {
   "cell_type": "code",
   "execution_count": 123,
   "metadata": {},
   "outputs": [
    {
     "name": "stdout",
     "output_type": "stream",
     "text": [
      "                            OLS Regression Results                            \n",
      "==============================================================================\n",
      "Dep. Variable:                      y   R-squared:                       0.261\n",
      "Model:                            OLS   Adj. R-squared:                  0.245\n",
      "Method:                 Least Squares   F-statistic:                     17.09\n",
      "Date:                Wed, 11 Oct 2017   Prob (F-statistic):           4.40e-07\n",
      "Time:                        16:57:19   Log-Likelihood:                -142.34\n",
      "No. Observations:                 100   AIC:                             290.7\n",
      "Df Residuals:                      97   BIC:                             298.5\n",
      "Df Model:                           2                                         \n",
      "Covariance Type:            nonrobust                                         \n",
      "==============================================================================\n",
      "                 coef    std err          t      P>|t|      [0.025      0.975]\n",
      "------------------------------------------------------------------------------\n",
      "Intercept      2.1893      0.199     11.021      0.000       1.795       2.584\n",
      "x1             0.7046      0.637      1.107      0.271      -0.559       1.968\n",
      "x2             2.5024      1.140      2.194      0.031       0.239       4.766\n",
      "==============================================================================\n",
      "Omnibus:                        0.607   Durbin-Watson:                   2.111\n",
      "Prob(Omnibus):                  0.738   Jarque-Bera (JB):                0.577\n",
      "Skew:                          -0.179   Prob(JB):                        0.749\n",
      "Kurtosis:                       2.900   Cond. No.                         14.3\n",
      "==============================================================================\n",
      "\n",
      "Warnings:\n",
      "[1] Standard Errors assume that the covariance matrix of the errors is correctly specified.\n"
     ]
    }
   ],
   "source": [
    "mod = smf.ols(formula='y ~ x1+x2', data=df)\n",
    "res = mod.fit()\n",
    "print(res.summary())"
   ]
  },
  {
   "cell_type": "markdown",
   "metadata": {},
   "source": [
    "* The coefficients β̂0, β̂1 and β̂2 are respectively 2.1893, 0.7046 and 2.5024. As the p-value is less than 0.05 we may reject H0 for β1, however we may not reject H0 for β2 as the p-value is higher than 0.05."
   ]
  },
  {
   "cell_type": "code",
   "execution_count": 124,
   "metadata": {},
   "outputs": [
    {
     "name": "stdout",
     "output_type": "stream",
     "text": [
      "                            OLS Regression Results                            \n",
      "==============================================================================\n",
      "Dep. Variable:                      y   R-squared:                       0.224\n",
      "Model:                            OLS   Adj. R-squared:                  0.216\n",
      "Method:                 Least Squares   F-statistic:                     28.26\n",
      "Date:                Wed, 11 Oct 2017   Prob (F-statistic):           6.68e-07\n",
      "Time:                        17:01:51   Log-Likelihood:                -144.76\n",
      "No. Observations:                 100   AIC:                             293.5\n",
      "Df Residuals:                      98   BIC:                             298.7\n",
      "Df Model:                           1                                         \n",
      "Covariance Type:            nonrobust                                         \n",
      "==============================================================================\n",
      "                 coef    std err          t      P>|t|      [0.025      0.975]\n",
      "------------------------------------------------------------------------------\n",
      "Intercept      2.2486      0.201     11.209      0.000       1.850       2.647\n",
      "x1             1.8770      0.353      5.316      0.000       1.176       2.578\n",
      "==============================================================================\n",
      "Omnibus:                        0.292   Durbin-Watson:                   2.123\n",
      "Prob(Omnibus):                  0.864   Jarque-Bera (JB):                0.468\n",
      "Skew:                          -0.003   Prob(JB):                        0.791\n",
      "Kurtosis:                       2.665   Cond. No.                         4.26\n",
      "==============================================================================\n",
      "\n",
      "Warnings:\n",
      "[1] Standard Errors assume that the covariance matrix of the errors is correctly specified.\n"
     ]
    }
   ],
   "source": [
    "mod = smf.ols(formula='y ~ x1', data=df)\n",
    "res = mod.fit()\n",
    "print(res.summary())"
   ]
  },
  {
   "cell_type": "markdown",
   "metadata": {},
   "source": [
    "* The coefficient for “x1” in this last model is very different from the one with “x1” and “x2” as predictors. In this case “x1” is highly significant as its p-value is very low, so we may reject H0."
   ]
  },
  {
   "cell_type": "code",
   "execution_count": 125,
   "metadata": {},
   "outputs": [
    {
     "name": "stdout",
     "output_type": "stream",
     "text": [
      "                            OLS Regression Results                            \n",
      "==============================================================================\n",
      "Dep. Variable:                      y   R-squared:                       0.251\n",
      "Model:                            OLS   Adj. R-squared:                  0.244\n",
      "Method:                 Least Squares   F-statistic:                     32.87\n",
      "Date:                Wed, 11 Oct 2017   Prob (F-statistic):           1.09e-07\n",
      "Time:                        17:01:55   Log-Likelihood:                -142.97\n",
      "No. Observations:                 100   AIC:                             289.9\n",
      "Df Residuals:                      98   BIC:                             295.1\n",
      "Df Model:                           1                                         \n",
      "Covariance Type:            nonrobust                                         \n",
      "==============================================================================\n",
      "                 coef    std err          t      P>|t|      [0.025      0.975]\n",
      "------------------------------------------------------------------------------\n",
      "Intercept      2.2655      0.187     12.145      0.000       1.895       2.636\n",
      "x2             3.5613      0.621      5.733      0.000       2.329       4.794\n",
      "==============================================================================\n",
      "Omnibus:                        0.857   Durbin-Watson:                   2.117\n",
      "Prob(Omnibus):                  0.651   Jarque-Bera (JB):                0.746\n",
      "Skew:                          -0.210   Prob(JB):                        0.689\n",
      "Kurtosis:                       2.946   Cond. No.                         6.48\n",
      "==============================================================================\n",
      "\n",
      "Warnings:\n",
      "[1] Standard Errors assume that the covariance matrix of the errors is correctly specified.\n"
     ]
    }
   ],
   "source": [
    "mod = smf.ols(formula='y ~ x2', data=df)\n",
    "res = mod.fit()\n",
    "print(res.summary())"
   ]
  },
  {
   "cell_type": "markdown",
   "metadata": {},
   "source": [
    "* The coefficient for “x2” in this model is very different from the one with “x1” and “x2” as predictors. In this case “x2” is highly significant as its p-value is very low, so we may again reject H0."
   ]
  },
  {
   "cell_type": "markdown",
   "metadata": {},
   "source": [
    "#### Do the results obtained in (c)–(e) contradict each other? Explain your answer."
   ]
  },
  {
   "cell_type": "markdown",
   "metadata": {},
   "source": [
    "No, the results do not contradict each other. As the predictors “x1” and “x2” are highly correlated we \n",
    "are in the presence of collinearity, in this case it can be difficult to determine how each predictor \n",
    "separately is associated with the response. Since collinearity reduces the accuracy of the estimates \n",
    "of the regression coefficients, it causes the standard error for β̂1 to grow.Consequently, we may fail to reject H0 in the presence of collinearity. The importance of the “x2” variable has been masked due to the presence of collinearity."
   ]
  },
  {
   "cell_type": "code",
   "execution_count": 137,
   "metadata": {},
   "outputs": [],
   "source": [
    "new = [0.1,0.8,6]\n",
    "new = pd.DataFrame(new).transpose()\n",
    "new.columns = ['x1','x2','y']\n",
    "df_new = pd.concat([df,new])"
   ]
  },
  {
   "cell_type": "code",
   "execution_count": 144,
   "metadata": {},
   "outputs": [
    {
     "name": "stdout",
     "output_type": "stream",
     "text": [
      "                            OLS Regression Results                            \n",
      "==============================================================================\n",
      "Dep. Variable:                      y   R-squared:                       0.289\n",
      "Model:                            OLS   Adj. R-squared:                  0.275\n",
      "Method:                 Least Squares   F-statistic:                     19.92\n",
      "Date:                Wed, 11 Oct 2017   Prob (F-statistic):           5.51e-08\n",
      "Time:                        17:15:21   Log-Likelihood:                -144.15\n",
      "No. Observations:                 101   AIC:                             294.3\n",
      "Df Residuals:                      98   BIC:                             302.1\n",
      "Df Model:                           2                                         \n",
      "Covariance Type:            nonrobust                                         \n",
      "==============================================================================\n",
      "                 coef    std err          t      P>|t|      [0.025      0.975]\n",
      "------------------------------------------------------------------------------\n",
      "Intercept      2.1996      0.199     11.041      0.000       1.804       2.595\n",
      "x1             0.2200      0.520      0.423      0.673      -0.812       1.252\n",
      "x2             3.4392      0.892      3.857      0.000       1.670       5.209\n",
      "==============================================================================\n",
      "Omnibus:                        1.246   Durbin-Watson:                   2.089\n",
      "Prob(Omnibus):                  0.536   Jarque-Bera (JB):                1.094\n",
      "Skew:                          -0.254   Prob(JB):                        0.579\n",
      "Kurtosis:                       2.956   Cond. No.                         11.1\n",
      "==============================================================================\n",
      "\n",
      "Warnings:\n",
      "[1] Standard Errors assume that the covariance matrix of the errors is correctly specified.\n"
     ]
    }
   ],
   "source": [
    "mod = smf.ols(formula='y ~ x1+x2', data=df_new)\n",
    "res = mod.fit()\n",
    "print(res.summary())"
   ]
  },
  {
   "cell_type": "code",
   "execution_count": 145,
   "metadata": {},
   "outputs": [
    {
     "data": {
      "image/png": "[encoded data removed]",
      "text/plain": [
       "<matplotlib.figure.Figure at 0x11b4b43d0>"
      ]
     },
     "metadata": {},
     "output_type": "display_data"
    }
   ],
   "source": [
    "fig = plt.figure(figsize=(12,8))\n",
    "fig = sm.graphics.plot_regress_exog(res, \"x1\", fig=fig)"
   ]
  },
  {
   "cell_type": "code",
   "execution_count": 146,
   "metadata": {},
   "outputs": [
    {
     "name": "stdout",
     "output_type": "stream",
     "text": [
      "                            OLS Regression Results                            \n",
      "==============================================================================\n",
      "Dep. Variable:                      y   R-squared:                       0.181\n",
      "Model:                            OLS   Adj. R-squared:                  0.173\n",
      "Method:                 Least Squares   F-statistic:                     21.89\n",
      "Date:                Wed, 11 Oct 2017   Prob (F-statistic):           9.15e-06\n",
      "Time:                        17:17:52   Log-Likelihood:                -151.28\n",
      "No. Observations:                 101   AIC:                             306.6\n",
      "Df Residuals:                      99   BIC:                             311.8\n",
      "Df Model:                           1                                         \n",
      "Covariance Type:            nonrobust                                         \n",
      "==============================================================================\n",
      "                 coef    std err          t      P>|t|      [0.025      0.975]\n",
      "------------------------------------------------------------------------------\n",
      "Intercept      2.3583      0.208     11.331      0.000       1.945       2.771\n",
      "x1             1.7225      0.368      4.679      0.000       0.992       2.453\n",
      "==============================================================================\n",
      "Omnibus:                        1.904   Durbin-Watson:                   1.975\n",
      "Prob(Omnibus):                  0.386   Jarque-Bera (JB):                1.388\n",
      "Skew:                           0.263   Prob(JB):                        0.500\n",
      "Kurtosis:                       3.232   Cond. No.                         4.23\n",
      "==============================================================================\n",
      "\n",
      "Warnings:\n",
      "[1] Standard Errors assume that the covariance matrix of the errors is correctly specified.\n"
     ]
    }
   ],
   "source": [
    "mod = smf.ols(formula='y ~ x1', data=df_new)\n",
    "res = mod.fit()\n",
    "print(res.summary())"
   ]
  },
  {
   "cell_type": "code",
   "execution_count": 147,
   "metadata": {},
   "outputs": [
    {
     "data": {
      "image/png": "[encoded data removed]",
      "text/plain": [
       "<matplotlib.figure.Figure at 0x11b440f90>"
      ]
     },
     "metadata": {},
     "output_type": "display_data"
    }
   ],
   "source": [
    "fig = plt.figure(figsize=(12,8))\n",
    "fig = sm.graphics.plot_regress_exog(res, \"x1\", fig=fig)"
   ]
  },
  {
   "cell_type": "code",
   "execution_count": 149,
   "metadata": {},
   "outputs": [
    {
     "name": "stdout",
     "output_type": "stream",
     "text": [
      "                            OLS Regression Results                            \n",
      "==============================================================================\n",
      "Dep. Variable:                      y   R-squared:                       0.288\n",
      "Model:                            OLS   Adj. R-squared:                  0.281\n",
      "Method:                 Least Squares   F-statistic:                     39.99\n",
      "Date:                Wed, 11 Oct 2017   Prob (F-statistic):           7.41e-09\n",
      "Time:                        17:18:09   Log-Likelihood:                -144.24\n",
      "No. Observations:                 101   AIC:                             292.5\n",
      "Df Residuals:                      99   BIC:                             297.7\n",
      "Df Model:                           1                                         \n",
      "Covariance Type:            nonrobust                                         \n",
      "==============================================================================\n",
      "                 coef    std err          t      P>|t|      [0.025      0.975]\n",
      "------------------------------------------------------------------------------\n",
      "Intercept      2.2331      0.182     12.271      0.000       1.872       2.594\n",
      "x2             3.7216      0.589      6.324      0.000       2.554       4.889\n",
      "==============================================================================\n",
      "Omnibus:                        1.271   Durbin-Watson:                   2.101\n",
      "Prob(Omnibus):                  0.530   Jarque-Bera (JB):                1.094\n",
      "Skew:                          -0.255   Prob(JB):                        0.579\n",
      "Kurtosis:                       2.973   Cond. No.                         6.20\n",
      "==============================================================================\n",
      "\n",
      "Warnings:\n",
      "[1] Standard Errors assume that the covariance matrix of the errors is correctly specified.\n"
     ]
    }
   ],
   "source": [
    "mod = smf.ols(formula='y ~ x2', data=df_new)\n",
    "res = mod.fit()\n",
    "print(res.summary())"
   ]
  },
  {
   "cell_type": "code",
   "execution_count": 150,
   "metadata": {},
   "outputs": [
    {
     "data": {
      "image/png": "[encoded data removed]",
      "text/plain": [
       "<matplotlib.figure.Figure at 0x119e9e890>"
      ]
     },
     "metadata": {},
     "output_type": "display_data"
    }
   ],
   "source": [
    "fig = plt.figure(figsize=(12,8))\n",
    "fig = sm.graphics.plot_regress_exog(res, \"x2\", fig=fig)"
   ]
  },
  {
   "cell_type": "markdown",
   "metadata": {},
   "source": [
    "* In all the three models, the last point is a high-leverage point."
   ]
  },
  {
   "cell_type": "markdown",
   "metadata": {},
   "source": [
    "### Problem 15"
   ]
  },
  {
   "cell_type": "code",
   "execution_count": 46,
   "metadata": {
    "collapsed": true
   },
   "outputs": [],
   "source": [
    "boston = pd.read_csv(\"Boston.csv\")"
   ]
  },
  {
   "cell_type": "code",
   "execution_count": 47,
   "metadata": {},
   "outputs": [
    {
     "data": {
      "text/html": [
       "<div>\n",
       "<style>\n",
       "    .dataframe thead tr:only-child th {\n",
       "        text-align: right;\n",
       "    }\n",
       "\n",
       "    .dataframe thead th {\n",
       "        text-align: left;\n",
       "    }\n",
       "\n",
       "    .dataframe tbody tr th {\n",
       "        vertical-align: top;\n",
       "    }\n",
       "</style>\n",
       "<table border=\"1\" class=\"dataframe\">\n",
       "  <thead>\n",
       "    <tr style=\"text-align: right;\">\n",
       "      <th></th>\n",
       "      <th>crim</th>\n",
       "      <th>zn</th>\n",
       "      <th>indus</th>\n",
       "      <th>chas</th>\n",
       "      <th>nox</th>\n",
       "      <th>rm</th>\n",
       "      <th>age</th>\n",
       "      <th>dis</th>\n",
       "      <th>rad</th>\n",
       "      <th>tax</th>\n",
       "      <th>ptratio</th>\n",
       "      <th>black</th>\n",
       "      <th>lstat</th>\n",
       "      <th>medv</th>\n",
       "    </tr>\n",
       "  </thead>\n",
       "  <tbody>\n",
       "    <tr>\n",
       "      <th>0</th>\n",
       "      <td>0.00632</td>\n",
       "      <td>18.0</td>\n",
       "      <td>2.31</td>\n",
       "      <td>0</td>\n",
       "      <td>0.538</td>\n",
       "      <td>6.575</td>\n",
       "      <td>65.2</td>\n",
       "      <td>4.0900</td>\n",
       "      <td>1</td>\n",
       "      <td>296</td>\n",
       "      <td>15.3</td>\n",
       "      <td>396.90</td>\n",
       "      <td>4.98</td>\n",
       "      <td>24.0</td>\n",
       "    </tr>\n",
       "    <tr>\n",
       "      <th>1</th>\n",
       "      <td>0.02731</td>\n",
       "      <td>0.0</td>\n",
       "      <td>7.07</td>\n",
       "      <td>0</td>\n",
       "      <td>0.469</td>\n",
       "      <td>6.421</td>\n",
       "      <td>78.9</td>\n",
       "      <td>4.9671</td>\n",
       "      <td>2</td>\n",
       "      <td>242</td>\n",
       "      <td>17.8</td>\n",
       "      <td>396.90</td>\n",
       "      <td>9.14</td>\n",
       "      <td>21.6</td>\n",
       "    </tr>\n",
       "    <tr>\n",
       "      <th>2</th>\n",
       "      <td>0.02729</td>\n",
       "      <td>0.0</td>\n",
       "      <td>7.07</td>\n",
       "      <td>0</td>\n",
       "      <td>0.469</td>\n",
       "      <td>7.185</td>\n",
       "      <td>61.1</td>\n",
       "      <td>4.9671</td>\n",
       "      <td>2</td>\n",
       "      <td>242</td>\n",
       "      <td>17.8</td>\n",
       "      <td>392.83</td>\n",
       "      <td>4.03</td>\n",
       "      <td>34.7</td>\n",
       "    </tr>\n",
       "    <tr>\n",
       "      <th>3</th>\n",
       "      <td>0.03237</td>\n",
       "      <td>0.0</td>\n",
       "      <td>2.18</td>\n",
       "      <td>0</td>\n",
       "      <td>0.458</td>\n",
       "      <td>6.998</td>\n",
       "      <td>45.8</td>\n",
       "      <td>6.0622</td>\n",
       "      <td>3</td>\n",
       "      <td>222</td>\n",
       "      <td>18.7</td>\n",
       "      <td>394.63</td>\n",
       "      <td>2.94</td>\n",
       "      <td>33.4</td>\n",
       "    </tr>\n",
       "    <tr>\n",
       "      <th>4</th>\n",
       "      <td>0.06905</td>\n",
       "      <td>0.0</td>\n",
       "      <td>2.18</td>\n",
       "      <td>0</td>\n",
       "      <td>0.458</td>\n",
       "      <td>7.147</td>\n",
       "      <td>54.2</td>\n",
       "      <td>6.0622</td>\n",
       "      <td>3</td>\n",
       "      <td>222</td>\n",
       "      <td>18.7</td>\n",
       "      <td>396.90</td>\n",
       "      <td>5.33</td>\n",
       "      <td>36.2</td>\n",
       "    </tr>\n",
       "  </tbody>\n",
       "</table>\n",
       "</div>"
      ],
      "text/plain": [
       "      crim    zn  indus  chas    nox     rm   age     dis  rad  tax  ptratio  \\\n",
       "0  0.00632  18.0   2.31     0  0.538  6.575  65.2  4.0900    1  296     15.3   \n",
       "1  0.02731   0.0   7.07     0  0.469  6.421  78.9  4.9671    2  242     17.8   \n",
       "2  0.02729   0.0   7.07     0  0.469  7.185  61.1  4.9671    2  242     17.8   \n",
       "3  0.03237   0.0   2.18     0  0.458  6.998  45.8  6.0622    3  222     18.7   \n",
       "4  0.06905   0.0   2.18     0  0.458  7.147  54.2  6.0622    3  222     18.7   \n",
       "\n",
       "    black  lstat  medv  \n",
       "0  396.90   4.98  24.0  \n",
       "1  396.90   9.14  21.6  \n",
       "2  392.83   4.03  34.7  \n",
       "3  394.63   2.94  33.4  \n",
       "4  396.90   5.33  36.2  "
      ]
     },
     "execution_count": 47,
     "metadata": {},
     "output_type": "execute_result"
    }
   ],
   "source": [
    "boston.head()"
   ]
  },
  {
   "cell_type": "code",
   "execution_count": 166,
   "metadata": {},
   "outputs": [
    {
     "name": "stdout",
     "output_type": "stream",
     "text": [
      "                            OLS Regression Results                            \n",
      "==============================================================================\n",
      "Dep. Variable:                   crim   R-squared:                       0.040\n",
      "Model:                            OLS   Adj. R-squared:                  0.038\n",
      "Method:                 Least Squares   F-statistic:                     21.10\n",
      "Date:                Wed, 11 Oct 2017   Prob (F-statistic):           5.51e-06\n",
      "Time:                        17:25:45   Log-Likelihood:                -1796.0\n",
      "No. Observations:                 506   AIC:                             3596.\n",
      "Df Residuals:                     504   BIC:                             3604.\n",
      "Df Model:                           1                                         \n",
      "Covariance Type:            nonrobust                                         \n",
      "==============================================================================\n",
      "                 coef    std err          t      P>|t|      [0.025      0.975]\n",
      "------------------------------------------------------------------------------\n",
      "Intercept      4.4537      0.417     10.675      0.000       3.634       5.273\n",
      "zn            -0.0739      0.016     -4.594      0.000      -0.106      -0.042\n",
      "==============================================================================\n",
      "Omnibus:                      567.443   Durbin-Watson:                   0.857\n",
      "Prob(Omnibus):                  0.000   Jarque-Bera (JB):            32753.004\n",
      "Skew:                           5.257   Prob(JB):                         0.00\n",
      "Kurtosis:                      40.986   Cond. No.                         28.8\n",
      "==============================================================================\n",
      "\n",
      "Warnings:\n",
      "[1] Standard Errors assume that the covariance matrix of the errors is correctly specified.\n"
     ]
    }
   ],
   "source": [
    "mod = smf.ols(formula='crim ~ zn', data=boston)\n",
    "res = mod.fit()\n",
    "zn_coef = res.params[1]\n",
    "print(res.summary())"
   ]
  },
  {
   "cell_type": "code",
   "execution_count": 165,
   "metadata": {},
   "outputs": [
    {
     "name": "stdout",
     "output_type": "stream",
     "text": [
      "                            OLS Regression Results                            \n",
      "==============================================================================\n",
      "Dep. Variable:                   crim   R-squared:                       0.165\n",
      "Model:                            OLS   Adj. R-squared:                  0.164\n",
      "Method:                 Least Squares   F-statistic:                     99.82\n",
      "Date:                Wed, 11 Oct 2017   Prob (F-statistic):           1.45e-21\n",
      "Time:                        17:25:34   Log-Likelihood:                -1760.6\n",
      "No. Observations:                 506   AIC:                             3525.\n",
      "Df Residuals:                     504   BIC:                             3534.\n",
      "Df Model:                           1                                         \n",
      "Covariance Type:            nonrobust                                         \n",
      "==============================================================================\n",
      "                 coef    std err          t      P>|t|      [0.025      0.975]\n",
      "------------------------------------------------------------------------------\n",
      "Intercept     -2.0637      0.667     -3.093      0.002      -3.375      -0.753\n",
      "indus          0.5098      0.051      9.991      0.000       0.410       0.610\n",
      "==============================================================================\n",
      "Omnibus:                      585.118   Durbin-Watson:                   0.986\n",
      "Prob(Omnibus):                  0.000   Jarque-Bera (JB):            41418.938\n",
      "Skew:                           5.449   Prob(JB):                         0.00\n",
      "Kurtosis:                      45.962   Cond. No.                         25.1\n",
      "==============================================================================\n",
      "\n",
      "Warnings:\n",
      "[1] Standard Errors assume that the covariance matrix of the errors is correctly specified.\n"
     ]
    }
   ],
   "source": [
    "mod = smf.ols(formula='crim ~ indus', data=boston)\n",
    "res = mod.fit()\n",
    "indus_coef = res.params[1]\n",
    "print(res.summary())"
   ]
  },
  {
   "cell_type": "code",
   "execution_count": 164,
   "metadata": {},
   "outputs": [
    {
     "name": "stdout",
     "output_type": "stream",
     "text": [
      "                            OLS Regression Results                            \n",
      "==============================================================================\n",
      "Dep. Variable:                   crim   R-squared:                       0.003\n",
      "Model:                            OLS   Adj. R-squared:                  0.001\n",
      "Method:                 Least Squares   F-statistic:                     1.579\n",
      "Date:                Wed, 11 Oct 2017   Prob (F-statistic):              0.209\n",
      "Time:                        17:25:27   Log-Likelihood:                -1805.6\n",
      "No. Observations:                 506   AIC:                             3615.\n",
      "Df Residuals:                     504   BIC:                             3624.\n",
      "Df Model:                           1                                         \n",
      "Covariance Type:            nonrobust                                         \n",
      "==============================================================================\n",
      "                 coef    std err          t      P>|t|      [0.025      0.975]\n",
      "------------------------------------------------------------------------------\n",
      "Intercept      3.7444      0.396      9.453      0.000       2.966       4.523\n",
      "chas          -1.8928      1.506     -1.257      0.209      -4.852       1.066\n",
      "==============================================================================\n",
      "Omnibus:                      561.663   Durbin-Watson:                   0.817\n",
      "Prob(Omnibus):                  0.000   Jarque-Bera (JB):            30645.429\n",
      "Skew:                           5.191   Prob(JB):                         0.00\n",
      "Kurtosis:                      39.685   Cond. No.                         3.96\n",
      "==============================================================================\n",
      "\n",
      "Warnings:\n",
      "[1] Standard Errors assume that the covariance matrix of the errors is correctly specified.\n"
     ]
    }
   ],
   "source": [
    "mod = smf.ols(formula='crim ~ chas', data=boston)\n",
    "res = mod.fit()\n",
    "chas_coef = res.params[1]\n",
    "print(res.summary())"
   ]
  },
  {
   "cell_type": "code",
   "execution_count": 163,
   "metadata": {},
   "outputs": [
    {
     "name": "stdout",
     "output_type": "stream",
     "text": [
      "                            OLS Regression Results                            \n",
      "==============================================================================\n",
      "Dep. Variable:                   crim   R-squared:                       0.177\n",
      "Model:                            OLS   Adj. R-squared:                  0.176\n",
      "Method:                 Least Squares   F-statistic:                     108.6\n",
      "Date:                Wed, 11 Oct 2017   Prob (F-statistic):           3.75e-23\n",
      "Time:                        17:25:17   Log-Likelihood:                -1757.0\n",
      "No. Observations:                 506   AIC:                             3518.\n",
      "Df Residuals:                     504   BIC:                             3526.\n",
      "Df Model:                           1                                         \n",
      "Covariance Type:            nonrobust                                         \n",
      "==============================================================================\n",
      "                 coef    std err          t      P>|t|      [0.025      0.975]\n",
      "------------------------------------------------------------------------------\n",
      "Intercept    -13.7199      1.699     -8.073      0.000     -17.059     -10.381\n",
      "nox           31.2485      2.999     10.419      0.000      25.356      37.141\n",
      "==============================================================================\n",
      "Omnibus:                      591.712   Durbin-Watson:                   0.992\n",
      "Prob(Omnibus):                  0.000   Jarque-Bera (JB):            43138.106\n",
      "Skew:                           5.546   Prob(JB):                         0.00\n",
      "Kurtosis:                      46.852   Cond. No.                         11.3\n",
      "==============================================================================\n",
      "\n",
      "Warnings:\n",
      "[1] Standard Errors assume that the covariance matrix of the errors is correctly specified.\n"
     ]
    }
   ],
   "source": [
    "mod = smf.ols(formula='crim ~ nox', data=boston)\n",
    "res = mod.fit()\n",
    "nox_coef = res.params[1]\n",
    "print(res.summary())"
   ]
  },
  {
   "cell_type": "code",
   "execution_count": 162,
   "metadata": {},
   "outputs": [
    {
     "name": "stdout",
     "output_type": "stream",
     "text": [
      "                            OLS Regression Results                            \n",
      "==============================================================================\n",
      "Dep. Variable:                   crim   R-squared:                       0.048\n",
      "Model:                            OLS   Adj. R-squared:                  0.046\n",
      "Method:                 Least Squares   F-statistic:                     25.45\n",
      "Date:                Wed, 11 Oct 2017   Prob (F-statistic):           6.35e-07\n",
      "Time:                        17:25:09   Log-Likelihood:                -1793.9\n",
      "No. Observations:                 506   AIC:                             3592.\n",
      "Df Residuals:                     504   BIC:                             3600.\n",
      "Df Model:                           1                                         \n",
      "Covariance Type:            nonrobust                                         \n",
      "==============================================================================\n",
      "                 coef    std err          t      P>|t|      [0.025      0.975]\n",
      "------------------------------------------------------------------------------\n",
      "Intercept     20.4818      3.364      6.088      0.000      13.872      27.092\n",
      "rm            -2.6841      0.532     -5.045      0.000      -3.729      -1.639\n",
      "==============================================================================\n",
      "Omnibus:                      575.717   Durbin-Watson:                   0.879\n",
      "Prob(Omnibus):                  0.000   Jarque-Bera (JB):            36658.093\n",
      "Skew:                           5.345   Prob(JB):                         0.00\n",
      "Kurtosis:                      43.305   Cond. No.                         58.4\n",
      "==============================================================================\n",
      "\n",
      "Warnings:\n",
      "[1] Standard Errors assume that the covariance matrix of the errors is correctly specified.\n"
     ]
    }
   ],
   "source": [
    "mod = smf.ols(formula='crim ~ rm', data=boston)\n",
    "res = mod.fit()\n",
    "rm_coef = res.params[1]\n",
    "print(res.summary())"
   ]
  },
  {
   "cell_type": "code",
   "execution_count": 161,
   "metadata": {},
   "outputs": [
    {
     "name": "stdout",
     "output_type": "stream",
     "text": [
      "                            OLS Regression Results                            \n",
      "==============================================================================\n",
      "Dep. Variable:                   crim   R-squared:                       0.124\n",
      "Model:                            OLS   Adj. R-squared:                  0.123\n",
      "Method:                 Least Squares   F-statistic:                     71.62\n",
      "Date:                Wed, 11 Oct 2017   Prob (F-statistic):           2.85e-16\n",
      "Time:                        17:24:59   Log-Likelihood:                -1772.7\n",
      "No. Observations:                 506   AIC:                             3549.\n",
      "Df Residuals:                     504   BIC:                             3558.\n",
      "Df Model:                           1                                         \n",
      "Covariance Type:            nonrobust                                         \n",
      "==============================================================================\n",
      "                 coef    std err          t      P>|t|      [0.025      0.975]\n",
      "------------------------------------------------------------------------------\n",
      "Intercept     -3.7779      0.944     -4.002      0.000      -5.633      -1.923\n",
      "age            0.1078      0.013      8.463      0.000       0.083       0.133\n",
      "==============================================================================\n",
      "Omnibus:                      574.509   Durbin-Watson:                   0.956\n",
      "Prob(Omnibus):                  0.000   Jarque-Bera (JB):            36741.903\n",
      "Skew:                           5.322   Prob(JB):                         0.00\n",
      "Kurtosis:                      43.366   Cond. No.                         195.\n",
      "==============================================================================\n",
      "\n",
      "Warnings:\n",
      "[1] Standard Errors assume that the covariance matrix of the errors is correctly specified.\n"
     ]
    }
   ],
   "source": [
    "mod = smf.ols(formula='crim ~ age', data=boston)\n",
    "res = mod.fit()\n",
    "age_coef = res.params[1]\n",
    "print(res.summary())"
   ]
  },
  {
   "cell_type": "code",
   "execution_count": 160,
   "metadata": {},
   "outputs": [
    {
     "name": "stdout",
     "output_type": "stream",
     "text": [
      "                            OLS Regression Results                            \n",
      "==============================================================================\n",
      "Dep. Variable:                   crim   R-squared:                       0.144\n",
      "Model:                            OLS   Adj. R-squared:                  0.142\n",
      "Method:                 Least Squares   F-statistic:                     84.89\n",
      "Date:                Wed, 11 Oct 2017   Prob (F-statistic):           8.52e-19\n",
      "Time:                        17:24:44   Log-Likelihood:                -1767.0\n",
      "No. Observations:                 506   AIC:                             3538.\n",
      "Df Residuals:                     504   BIC:                             3546.\n",
      "Df Model:                           1                                         \n",
      "Covariance Type:            nonrobust                                         \n",
      "==============================================================================\n",
      "                 coef    std err          t      P>|t|      [0.025      0.975]\n",
      "------------------------------------------------------------------------------\n",
      "Intercept      9.4993      0.730     13.006      0.000       8.064      10.934\n",
      "dis           -1.5509      0.168     -9.213      0.000      -1.882      -1.220\n",
      "==============================================================================\n",
      "Omnibus:                      576.519   Durbin-Watson:                   0.952\n",
      "Prob(Omnibus):                  0.000   Jarque-Bera (JB):            37426.729\n",
      "Skew:                           5.348   Prob(JB):                         0.00\n",
      "Kurtosis:                      43.753   Cond. No.                         9.32\n",
      "==============================================================================\n",
      "\n",
      "Warnings:\n",
      "[1] Standard Errors assume that the covariance matrix of the errors is correctly specified.\n"
     ]
    }
   ],
   "source": [
    "mod = smf.ols(formula='crim ~ dis', data=boston)\n",
    "res = mod.fit()\n",
    "dis_coef = res.params[1]\n",
    "print(res.summary())"
   ]
  },
  {
   "cell_type": "code",
   "execution_count": 159,
   "metadata": {},
   "outputs": [
    {
     "name": "stdout",
     "output_type": "stream",
     "text": [
      "                            OLS Regression Results                            \n",
      "==============================================================================\n",
      "Dep. Variable:                   crim   R-squared:                       0.391\n",
      "Model:                            OLS   Adj. R-squared:                  0.390\n",
      "Method:                 Least Squares   F-statistic:                     323.9\n",
      "Date:                Wed, 11 Oct 2017   Prob (F-statistic):           2.69e-56\n",
      "Time:                        17:24:35   Log-Likelihood:                -1680.8\n",
      "No. Observations:                 506   AIC:                             3366.\n",
      "Df Residuals:                     504   BIC:                             3374.\n",
      "Df Model:                           1                                         \n",
      "Covariance Type:            nonrobust                                         \n",
      "==============================================================================\n",
      "                 coef    std err          t      P>|t|      [0.025      0.975]\n",
      "------------------------------------------------------------------------------\n",
      "Intercept     -2.2872      0.443     -5.157      0.000      -3.158      -1.416\n",
      "rad            0.6179      0.034     17.998      0.000       0.550       0.685\n",
      "==============================================================================\n",
      "Omnibus:                      656.459   Durbin-Watson:                   1.337\n",
      "Prob(Omnibus):                  0.000   Jarque-Bera (JB):            75417.007\n",
      "Skew:                           6.478   Prob(JB):                         0.00\n",
      "Kurtosis:                      61.389   Cond. No.                         19.2\n",
      "==============================================================================\n",
      "\n",
      "Warnings:\n",
      "[1] Standard Errors assume that the covariance matrix of the errors is correctly specified.\n"
     ]
    }
   ],
   "source": [
    "mod = smf.ols(formula='crim ~ rad', data=boston)\n",
    "res = mod.fit()\n",
    "rad_coef = res.params[1]\n",
    "print(res.summary())"
   ]
  },
  {
   "cell_type": "code",
   "execution_count": 169,
   "metadata": {},
   "outputs": [
    {
     "name": "stdout",
     "output_type": "stream",
     "text": [
      "                            OLS Regression Results                            \n",
      "==============================================================================\n",
      "Dep. Variable:                   crim   R-squared:                       0.340\n",
      "Model:                            OLS   Adj. R-squared:                  0.338\n",
      "Method:                 Least Squares   F-statistic:                     259.2\n",
      "Date:                Wed, 11 Oct 2017   Prob (F-statistic):           2.36e-47\n",
      "Time:                        17:29:35   Log-Likelihood:                -1701.4\n",
      "No. Observations:                 506   AIC:                             3407.\n",
      "Df Residuals:                     504   BIC:                             3415.\n",
      "Df Model:                           1                                         \n",
      "Covariance Type:            nonrobust                                         \n",
      "==============================================================================\n",
      "                 coef    std err          t      P>|t|      [0.025      0.975]\n",
      "------------------------------------------------------------------------------\n",
      "Intercept     -8.5284      0.816    -10.454      0.000     -10.131      -6.926\n",
      "tax            0.0297      0.002     16.099      0.000       0.026       0.033\n",
      "==============================================================================\n",
      "Omnibus:                      635.377   Durbin-Watson:                   1.252\n",
      "Prob(Omnibus):                  0.000   Jarque-Bera (JB):            63763.835\n",
      "Skew:                           6.156   Prob(JB):                         0.00\n",
      "Kurtosis:                      56.599   Cond. No.                     1.16e+03\n",
      "==============================================================================\n",
      "\n",
      "Warnings:\n",
      "[1] Standard Errors assume that the covariance matrix of the errors is correctly specified.\n",
      "[2] The condition number is large, 1.16e+03. This might indicate that there are\n",
      "strong multicollinearity or other numerical problems.\n"
     ]
    }
   ],
   "source": [
    "mod = smf.ols(formula='crim ~ tax', data=boston)\n",
    "res = mod.fit()\n",
    "tax_coef = res.params[1]\n",
    "print(res.summary())"
   ]
  },
  {
   "cell_type": "code",
   "execution_count": 158,
   "metadata": {},
   "outputs": [
    {
     "name": "stdout",
     "output_type": "stream",
     "text": [
      "                            OLS Regression Results                            \n",
      "==============================================================================\n",
      "Dep. Variable:                   crim   R-squared:                       0.084\n",
      "Model:                            OLS   Adj. R-squared:                  0.082\n",
      "Method:                 Least Squares   F-statistic:                     46.26\n",
      "Date:                Wed, 11 Oct 2017   Prob (F-statistic):           2.94e-11\n",
      "Time:                        17:24:24   Log-Likelihood:                -1784.1\n",
      "No. Observations:                 506   AIC:                             3572.\n",
      "Df Residuals:                     504   BIC:                             3581.\n",
      "Df Model:                           1                                         \n",
      "Covariance Type:            nonrobust                                         \n",
      "==============================================================================\n",
      "                 coef    std err          t      P>|t|      [0.025      0.975]\n",
      "------------------------------------------------------------------------------\n",
      "Intercept    -17.6469      3.147     -5.607      0.000     -23.830     -11.464\n",
      "ptratio        1.1520      0.169      6.801      0.000       0.819       1.485\n",
      "==============================================================================\n",
      "Omnibus:                      568.053   Durbin-Watson:                   0.905\n",
      "Prob(Omnibus):                  0.000   Jarque-Bera (JB):            34221.853\n",
      "Skew:                           5.245   Prob(JB):                         0.00\n",
      "Kurtosis:                      41.899   Cond. No.                         160.\n",
      "==============================================================================\n",
      "\n",
      "Warnings:\n",
      "[1] Standard Errors assume that the covariance matrix of the errors is correctly specified.\n"
     ]
    }
   ],
   "source": [
    "mod = smf.ols(formula='crim ~ ptratio', data=boston)\n",
    "res = mod.fit()\n",
    "ptratio_coef = res.params[1]\n",
    "print(res.summary())"
   ]
  },
  {
   "cell_type": "code",
   "execution_count": 157,
   "metadata": {},
   "outputs": [
    {
     "name": "stdout",
     "output_type": "stream",
     "text": [
      "                            OLS Regression Results                            \n",
      "==============================================================================\n",
      "Dep. Variable:                   crim   R-squared:                       0.148\n",
      "Model:                            OLS   Adj. R-squared:                  0.147\n",
      "Method:                 Least Squares   F-statistic:                     87.74\n",
      "Date:                Wed, 11 Oct 2017   Prob (F-statistic):           2.49e-19\n",
      "Time:                        17:24:11   Log-Likelihood:                -1765.8\n",
      "No. Observations:                 506   AIC:                             3536.\n",
      "Df Residuals:                     504   BIC:                             3544.\n",
      "Df Model:                           1                                         \n",
      "Covariance Type:            nonrobust                                         \n",
      "==============================================================================\n",
      "                 coef    std err          t      P>|t|      [0.025      0.975]\n",
      "------------------------------------------------------------------------------\n",
      "Intercept     16.5535      1.426     11.609      0.000      13.752      19.355\n",
      "black         -0.0363      0.004     -9.367      0.000      -0.044      -0.029\n",
      "==============================================================================\n",
      "Omnibus:                      594.029   Durbin-Watson:                   0.994\n",
      "Prob(Omnibus):                  0.000   Jarque-Bera (JB):            44041.935\n",
      "Skew:                           5.578   Prob(JB):                         0.00\n",
      "Kurtosis:                      47.323   Cond. No.                     1.49e+03\n",
      "==============================================================================\n",
      "\n",
      "Warnings:\n",
      "[1] Standard Errors assume that the covariance matrix of the errors is correctly specified.\n",
      "[2] The condition number is large, 1.49e+03. This might indicate that there are\n",
      "strong multicollinearity or other numerical problems.\n"
     ]
    }
   ],
   "source": [
    "mod = smf.ols(formula='crim ~ black', data=boston)\n",
    "res = mod.fit()\n",
    "black_coef = res.params[1]\n",
    "print(res.summary())"
   ]
  },
  {
   "cell_type": "code",
   "execution_count": 155,
   "metadata": {},
   "outputs": [
    {
     "name": "stdout",
     "output_type": "stream",
     "text": [
      "                            OLS Regression Results                            \n",
      "==============================================================================\n",
      "Dep. Variable:                   crim   R-squared:                       0.208\n",
      "Model:                            OLS   Adj. R-squared:                  0.206\n",
      "Method:                 Least Squares   F-statistic:                     132.0\n",
      "Date:                Wed, 11 Oct 2017   Prob (F-statistic):           2.65e-27\n",
      "Time:                        17:23:51   Log-Likelihood:                -1747.5\n",
      "No. Observations:                 506   AIC:                             3499.\n",
      "Df Residuals:                     504   BIC:                             3507.\n",
      "Df Model:                           1                                         \n",
      "Covariance Type:            nonrobust                                         \n",
      "==============================================================================\n",
      "                 coef    std err          t      P>|t|      [0.025      0.975]\n",
      "------------------------------------------------------------------------------\n",
      "Intercept     -3.3305      0.694     -4.801      0.000      -4.694      -1.968\n",
      "lstat          0.5488      0.048     11.491      0.000       0.455       0.643\n",
      "==============================================================================\n",
      "Omnibus:                      601.306   Durbin-Watson:                   1.182\n",
      "Prob(Omnibus):                  0.000   Jarque-Bera (JB):            49918.826\n",
      "Skew:                           5.645   Prob(JB):                         0.00\n",
      "Kurtosis:                      50.331   Cond. No.                         29.7\n",
      "==============================================================================\n",
      "\n",
      "Warnings:\n",
      "[1] Standard Errors assume that the covariance matrix of the errors is correctly specified.\n"
     ]
    }
   ],
   "source": [
    "mod = smf.ols(formula='crim ~ lstat', data=boston)\n",
    "res = mod.fit()\n",
    "lstat_coef = res.params[1]\n",
    "print(res.summary())"
   ]
  },
  {
   "cell_type": "code",
   "execution_count": 156,
   "metadata": {},
   "outputs": [
    {
     "name": "stdout",
     "output_type": "stream",
     "text": [
      "                            OLS Regression Results                            \n",
      "==============================================================================\n",
      "Dep. Variable:                   crim   R-squared:                       0.151\n",
      "Model:                            OLS   Adj. R-squared:                  0.149\n",
      "Method:                 Least Squares   F-statistic:                     89.49\n",
      "Date:                Wed, 11 Oct 2017   Prob (F-statistic):           1.17e-19\n",
      "Time:                        17:23:58   Log-Likelihood:                -1765.0\n",
      "No. Observations:                 506   AIC:                             3534.\n",
      "Df Residuals:                     504   BIC:                             3542.\n",
      "Df Model:                           1                                         \n",
      "Covariance Type:            nonrobust                                         \n",
      "==============================================================================\n",
      "                 coef    std err          t      P>|t|      [0.025      0.975]\n",
      "------------------------------------------------------------------------------\n",
      "Intercept     11.7965      0.934     12.628      0.000       9.961      13.632\n",
      "medv          -0.3632      0.038     -9.460      0.000      -0.439      -0.288\n",
      "==============================================================================\n",
      "Omnibus:                      558.880   Durbin-Watson:                   0.996\n",
      "Prob(Omnibus):                  0.000   Jarque-Bera (JB):            32740.044\n",
      "Skew:                           5.108   Prob(JB):                         0.00\n",
      "Kurtosis:                      41.059   Cond. No.                         64.5\n",
      "==============================================================================\n",
      "\n",
      "Warnings:\n",
      "[1] Standard Errors assume that the covariance matrix of the errors is correctly specified.\n"
     ]
    }
   ],
   "source": [
    "mod = smf.ols(formula='crim ~ medv', data=boston)\n",
    "res = mod.fit()\n",
    "medv_coef = res.params[1]\n",
    "print(res.summary())"
   ]
  },
  {
   "cell_type": "markdown",
   "metadata": {},
   "source": [
    "* All predictors have a p-value less than 0.05 except chas, so we may conclude that there is a statistically significant association between each predictor and the response except for the chas predictor."
   ]
  },
  {
   "cell_type": "code",
   "execution_count": 152,
   "metadata": {},
   "outputs": [
    {
     "name": "stdout",
     "output_type": "stream",
     "text": [
      "Intercept    17.033228\n",
      "zn            0.044855\n",
      "indus        -0.063855\n",
      "chas         -0.749134\n",
      "nox         -10.313535\n",
      "rm            0.430131\n",
      "age           0.001452\n",
      "dis          -0.987176\n",
      "rad           0.588209\n",
      "tax          -0.003780\n",
      "ptratio      -0.271081\n",
      "black        -0.007538\n",
      "lstat         0.126211\n",
      "medv         -0.198887\n",
      "dtype: float64\n",
      "                            OLS Regression Results                            \n",
      "==============================================================================\n",
      "Dep. Variable:                   crim   R-squared:                       0.454\n",
      "Model:                            OLS   Adj. R-squared:                  0.440\n",
      "Method:                 Least Squares   F-statistic:                     31.47\n",
      "Date:                Wed, 11 Oct 2017   Prob (F-statistic):           1.57e-56\n",
      "Time:                        17:23:00   Log-Likelihood:                -1653.3\n",
      "No. Observations:                 506   AIC:                             3335.\n",
      "Df Residuals:                     492   BIC:                             3394.\n",
      "Df Model:                          13                                         \n",
      "Covariance Type:            nonrobust                                         \n",
      "==============================================================================\n",
      "                 coef    std err          t      P>|t|      [0.025      0.975]\n",
      "------------------------------------------------------------------------------\n",
      "Intercept     17.0332      7.235      2.354      0.019       2.818      31.248\n",
      "zn             0.0449      0.019      2.394      0.017       0.008       0.082\n",
      "indus         -0.0639      0.083     -0.766      0.444      -0.228       0.100\n",
      "chas          -0.7491      1.180     -0.635      0.526      -3.068       1.570\n",
      "nox          -10.3135      5.276     -1.955      0.051     -20.679       0.052\n",
      "rm             0.4301      0.613      0.702      0.483      -0.774       1.634\n",
      "age            0.0015      0.018      0.081      0.935      -0.034       0.037\n",
      "dis           -0.9872      0.282     -3.503      0.001      -1.541      -0.433\n",
      "rad            0.5882      0.088      6.680      0.000       0.415       0.761\n",
      "tax           -0.0038      0.005     -0.733      0.464      -0.014       0.006\n",
      "ptratio       -0.2711      0.186     -1.454      0.147      -0.637       0.095\n",
      "black         -0.0075      0.004     -2.052      0.041      -0.015      -0.000\n",
      "lstat          0.1262      0.076      1.667      0.096      -0.023       0.275\n",
      "medv          -0.1989      0.061     -3.287      0.001      -0.318      -0.080\n",
      "==============================================================================\n",
      "Omnibus:                      666.613   Durbin-Watson:                   1.519\n",
      "Prob(Omnibus):                  0.000   Jarque-Bera (JB):            84887.625\n",
      "Skew:                           6.617   Prob(JB):                         0.00\n",
      "Kurtosis:                      65.058   Cond. No.                     1.58e+04\n",
      "==============================================================================\n",
      "\n",
      "Warnings:\n",
      "[1] Standard Errors assume that the covariance matrix of the errors is correctly specified.\n",
      "[2] The condition number is large, 1.58e+04. This might indicate that there are\n",
      "strong multicollinearity or other numerical problems.\n"
     ]
    }
   ],
   "source": [
    "mod = smf.ols(formula='crim ~ zn+indus+chas+nox+rm+age+dis+rad+tax+ptratio+black+lstat+medv',data=boston)\n",
    "res = mod.fit()\n",
    "mod_coef = res.params\n",
    "print (mod_coef)\n",
    "print(res.summary())"
   ]
  },
  {
   "cell_type": "markdown",
   "metadata": {},
   "source": [
    "* Based on the p value, we may reject the null hypothesis for “zn”, “dis”, “rad”, “black” and “medv”."
   ]
  },
  {
   "cell_type": "code",
   "execution_count": 177,
   "metadata": {},
   "outputs": [],
   "source": [
    "# mod_coef\n",
    "coef = pd.DataFrame([zn_coef,indus_coef,chas_coef,nox_coef,rm_coef,age_coef,\\\n",
    "              dis_coef,rad_coef,tax_coef,ptratio_coef,black_coef,lstat_coef,medv_coef])\n",
    "mod_coef = mod_coef[1:14]\n",
    "plt.plot(coef,mod_coef)"
   ]
  },
  {
   "cell_type": "code",
   "execution_count": 76,
   "metadata": {},
   "outputs": [
    {
     "name": "stdout",
     "output_type": "stream",
     "text": [
      "                            OLS Regression Results                            \n",
      "==============================================================================\n",
      "Dep. Variable:                   crim   R-squared:                       0.058\n",
      "Model:                            OLS   Adj. R-squared:                  0.053\n",
      "Method:                 Least Squares   F-statistic:                     10.35\n",
      "Date:                Wed, 11 Oct 2017   Prob (F-statistic):           1.28e-06\n",
      "Time:                        13:19:08   Log-Likelihood:                -1791.2\n",
      "No. Observations:                 506   AIC:                             3590.\n",
      "Df Residuals:                     502   BIC:                             3607.\n",
      "Df Model:                           3                                         \n",
      "Covariance Type:            nonrobust                                         \n",
      "================================================================================\n",
      "                   coef    std err          t      P>|t|      [0.025      0.975]\n",
      "--------------------------------------------------------------------------------\n",
      "Intercept        4.8461      0.433     11.192      0.000       3.995       5.697\n",
      "zn              -0.3322      0.110     -3.025      0.003      -0.548      -0.116\n",
      "I(zn ** 2.0)     0.0065      0.004      1.679      0.094      -0.001       0.014\n",
      "I(zn ** 3.0) -3.776e-05   3.14e-05     -1.203      0.230   -9.94e-05    2.39e-05\n",
      "==============================================================================\n",
      "Omnibus:                      569.133   Durbin-Watson:                   0.875\n",
      "Prob(Omnibus):                  0.000   Jarque-Bera (JB):            33700.991\n",
      "Skew:                           5.272   Prob(JB):                         0.00\n",
      "Kurtosis:                      41.565   Cond. No.                     1.89e+05\n",
      "==============================================================================\n",
      "\n",
      "Warnings:\n",
      "[1] Standard Errors assume that the covariance matrix of the errors is correctly specified.\n",
      "[2] The condition number is large, 1.89e+05. This might indicate that there are\n",
      "strong multicollinearity or other numerical problems.\n"
     ]
    }
   ],
   "source": [
    "mod = smf.ols(formula='crim ~ zn + I(zn ** 2.0) + I(zn ** 3.0)', data=boston)\n",
    "res = mod.fit()\n",
    "print(res.summary())"
   ]
  },
  {
   "cell_type": "code",
   "execution_count": 77,
   "metadata": {},
   "outputs": [
    {
     "name": "stdout",
     "output_type": "stream",
     "text": [
      "                            OLS Regression Results                            \n",
      "==============================================================================\n",
      "Dep. Variable:                   crim   R-squared:                       0.260\n",
      "Model:                            OLS   Adj. R-squared:                  0.255\n",
      "Method:                 Least Squares   F-statistic:                     58.69\n",
      "Date:                Wed, 11 Oct 2017   Prob (F-statistic):           1.55e-32\n",
      "Time:                        13:20:25   Log-Likelihood:                -1730.3\n",
      "No. Observations:                 506   AIC:                             3469.\n",
      "Df Residuals:                     502   BIC:                             3486.\n",
      "Df Model:                           3                                         \n",
      "Covariance Type:            nonrobust                                         \n",
      "===================================================================================\n",
      "                      coef    std err          t      P>|t|      [0.025      0.975]\n",
      "-----------------------------------------------------------------------------------\n",
      "Intercept           3.6626      1.574      2.327      0.020       0.570       6.755\n",
      "indus              -1.9652      0.482     -4.077      0.000      -2.912      -1.018\n",
      "I(indus ** 2.0)     0.2519      0.039      6.407      0.000       0.175       0.329\n",
      "I(indus ** 3.0)    -0.0070      0.001     -7.292      0.000      -0.009      -0.005\n",
      "==============================================================================\n",
      "Omnibus:                      611.788   Durbin-Watson:                   1.116\n",
      "Prob(Omnibus):                  0.000   Jarque-Bera (JB):            51742.286\n",
      "Skew:                           5.820   Prob(JB):                         0.00\n",
      "Kurtosis:                      51.153   Cond. No.                     2.47e+04\n",
      "==============================================================================\n",
      "\n",
      "Warnings:\n",
      "[1] Standard Errors assume that the covariance matrix of the errors is correctly specified.\n",
      "[2] The condition number is large, 2.47e+04. This might indicate that there are\n",
      "strong multicollinearity or other numerical problems.\n"
     ]
    }
   ],
   "source": [
    "mod = smf.ols(formula='crim ~ indus + I(indus ** 2.0) + I(indus ** 3.0)', data=boston)\n",
    "res = mod.fit()\n",
    "print(res.summary())"
   ]
  },
  {
   "cell_type": "code",
   "execution_count": 78,
   "metadata": {},
   "outputs": [
    {
     "name": "stdout",
     "output_type": "stream",
     "text": [
      "                            OLS Regression Results                            \n",
      "==============================================================================\n",
      "Dep. Variable:                   crim   R-squared:                       0.297\n",
      "Model:                            OLS   Adj. R-squared:                  0.293\n",
      "Method:                 Least Squares   F-statistic:                     70.69\n",
      "Date:                Wed, 11 Oct 2017   Prob (F-statistic):           3.81e-38\n",
      "Time:                        13:22:22   Log-Likelihood:                -1717.2\n",
      "No. Observations:                 506   AIC:                             3442.\n",
      "Df Residuals:                     502   BIC:                             3459.\n",
      "Df Model:                           3                                         \n",
      "Covariance Type:            nonrobust                                         \n",
      "=================================================================================\n",
      "                    coef    std err          t      P>|t|      [0.025      0.975]\n",
      "---------------------------------------------------------------------------------\n",
      "Intercept       233.0866     33.643      6.928      0.000     166.988     299.185\n",
      "nox           -1279.3713    170.397     -7.508      0.000   -1614.151    -944.591\n",
      "I(nox ** 2.0)  2248.5441    279.899      8.033      0.000    1698.626    2798.462\n",
      "I(nox ** 3.0) -1245.7029    149.282     -8.345      0.000   -1538.997    -952.409\n",
      "==============================================================================\n",
      "Omnibus:                      614.412   Durbin-Watson:                   1.159\n",
      "Prob(Omnibus):                  0.000   Jarque-Bera (JB):            53523.997\n",
      "Skew:                           5.851   Prob(JB):                         0.00\n",
      "Kurtosis:                      52.008   Cond. No.                     1.36e+03\n",
      "==============================================================================\n",
      "\n",
      "Warnings:\n",
      "[1] Standard Errors assume that the covariance matrix of the errors is correctly specified.\n",
      "[2] The condition number is large, 1.36e+03. This might indicate that there are\n",
      "strong multicollinearity or other numerical problems.\n"
     ]
    }
   ],
   "source": [
    "mod = smf.ols(formula='crim ~ nox + I(nox ** 2.0) + I(nox ** 3.0)', data=boston)\n",
    "res = mod.fit()\n",
    "print(res.summary())"
   ]
  },
  {
   "cell_type": "code",
   "execution_count": 79,
   "metadata": {},
   "outputs": [
    {
     "name": "stdout",
     "output_type": "stream",
     "text": [
      "                            OLS Regression Results                            \n",
      "==============================================================================\n",
      "Dep. Variable:                   crim   R-squared:                       0.068\n",
      "Model:                            OLS   Adj. R-squared:                  0.062\n",
      "Method:                 Least Squares   F-statistic:                     12.17\n",
      "Date:                Wed, 11 Oct 2017   Prob (F-statistic):           1.07e-07\n",
      "Time:                        13:22:45   Log-Likelihood:                -1788.6\n",
      "No. Observations:                 506   AIC:                             3585.\n",
      "Df Residuals:                     502   BIC:                             3602.\n",
      "Df Model:                           3                                         \n",
      "Covariance Type:            nonrobust                                         \n",
      "================================================================================\n",
      "                   coef    std err          t      P>|t|      [0.025      0.975]\n",
      "--------------------------------------------------------------------------------\n",
      "Intercept      112.6246     64.517      1.746      0.081     -14.132     239.382\n",
      "rm             -39.1501     31.311     -1.250      0.212    -100.668      22.368\n",
      "I(rm ** 2.0)     4.5509      5.010      0.908      0.364      -5.292      14.394\n",
      "I(rm ** 3.0)    -0.1745      0.264     -0.662      0.509      -0.693       0.344\n",
      "==============================================================================\n",
      "Omnibus:                      585.097   Durbin-Watson:                   0.913\n",
      "Prob(Omnibus):                  0.000   Jarque-Bera (JB):            40144.207\n",
      "Skew:                           5.465   Prob(JB):                         0.00\n",
      "Kurtosis:                      45.245   Cond. No.                     5.36e+04\n",
      "==============================================================================\n",
      "\n",
      "Warnings:\n",
      "[1] Standard Errors assume that the covariance matrix of the errors is correctly specified.\n",
      "[2] The condition number is large, 5.36e+04. This might indicate that there are\n",
      "strong multicollinearity or other numerical problems.\n"
     ]
    }
   ],
   "source": [
    "mod = smf.ols(formula='crim ~ rm + I(rm ** 2.0) + I(rm ** 3.0)', data=boston)\n",
    "res = mod.fit()\n",
    "print(res.summary())"
   ]
  },
  {
   "cell_type": "code",
   "execution_count": 80,
   "metadata": {},
   "outputs": [
    {
     "name": "stdout",
     "output_type": "stream",
     "text": [
      "                            OLS Regression Results                            \n",
      "==============================================================================\n",
      "Dep. Variable:                   crim   R-squared:                       0.174\n",
      "Model:                            OLS   Adj. R-squared:                  0.169\n",
      "Method:                 Least Squares   F-statistic:                     35.31\n",
      "Date:                Wed, 11 Oct 2017   Prob (F-statistic):           1.02e-20\n",
      "Time:                        13:22:56   Log-Likelihood:                -1757.9\n",
      "No. Observations:                 506   AIC:                             3524.\n",
      "Df Residuals:                     502   BIC:                             3541.\n",
      "Df Model:                           3                                         \n",
      "Covariance Type:            nonrobust                                         \n",
      "=================================================================================\n",
      "                    coef    std err          t      P>|t|      [0.025      0.975]\n",
      "---------------------------------------------------------------------------------\n",
      "Intercept        -2.5488      2.769     -0.920      0.358      -7.989       2.892\n",
      "age               0.2737      0.186      1.468      0.143      -0.093       0.640\n",
      "I(age ** 2.0)    -0.0072      0.004     -1.988      0.047      -0.014    -8.4e-05\n",
      "I(age ** 3.0)  5.745e-05   2.11e-05      2.724      0.007     1.6e-05    9.89e-05\n",
      "==============================================================================\n",
      "Omnibus:                      577.477   Durbin-Watson:                   1.025\n",
      "Prob(Omnibus):                  0.000   Jarque-Bera (JB):            39586.670\n",
      "Skew:                           5.336   Prob(JB):                         0.00\n",
      "Kurtosis:                      44.997   Cond. No.                     4.74e+06\n",
      "==============================================================================\n",
      "\n",
      "Warnings:\n",
      "[1] Standard Errors assume that the covariance matrix of the errors is correctly specified.\n",
      "[2] The condition number is large, 4.74e+06. This might indicate that there are\n",
      "strong multicollinearity or other numerical problems.\n"
     ]
    }
   ],
   "source": [
    "mod = smf.ols(formula='crim ~ age + I(age ** 2.0) + I(age ** 3.0)', data=boston)\n",
    "res = mod.fit()\n",
    "print(res.summary())"
   ]
  },
  {
   "cell_type": "code",
   "execution_count": 81,
   "metadata": {},
   "outputs": [
    {
     "name": "stdout",
     "output_type": "stream",
     "text": [
      "                            OLS Regression Results                            \n",
      "==============================================================================\n",
      "Dep. Variable:                   crim   R-squared:                       0.278\n",
      "Model:                            OLS   Adj. R-squared:                  0.274\n",
      "Method:                 Least Squares   F-statistic:                     64.37\n",
      "Date:                Wed, 11 Oct 2017   Prob (F-statistic):           3.14e-35\n",
      "Time:                        13:23:16   Log-Likelihood:                -1724.0\n",
      "No. Observations:                 506   AIC:                             3456.\n",
      "Df Residuals:                     502   BIC:                             3473.\n",
      "Df Model:                           3                                         \n",
      "Covariance Type:            nonrobust                                         \n",
      "=================================================================================\n",
      "                    coef    std err          t      P>|t|      [0.025      0.975]\n",
      "---------------------------------------------------------------------------------\n",
      "Intercept        30.0476      2.446     12.285      0.000      25.242      34.853\n",
      "dis             -15.5544      1.736     -8.960      0.000     -18.965     -12.144\n",
      "I(dis ** 2.0)     2.4521      0.346      7.078      0.000       1.771       3.133\n",
      "I(dis ** 3.0)    -0.1186      0.020     -5.814      0.000      -0.159      -0.079\n",
      "==============================================================================\n",
      "Omnibus:                      577.742   Durbin-Watson:                   1.129\n",
      "Prob(Omnibus):                  0.000   Jarque-Bera (JB):            42444.706\n",
      "Skew:                           5.305   Prob(JB):                         0.00\n",
      "Kurtosis:                      46.596   Cond. No.                     2.10e+03\n",
      "==============================================================================\n",
      "\n",
      "Warnings:\n",
      "[1] Standard Errors assume that the covariance matrix of the errors is correctly specified.\n",
      "[2] The condition number is large, 2.1e+03. This might indicate that there are\n",
      "strong multicollinearity or other numerical problems.\n"
     ]
    }
   ],
   "source": [
    "mod = smf.ols(formula='crim ~ dis + I(dis ** 2.0) + I(dis ** 3.0)', data=boston)\n",
    "res = mod.fit()\n",
    "print(res.summary())"
   ]
  },
  {
   "cell_type": "code",
   "execution_count": 82,
   "metadata": {},
   "outputs": [
    {
     "name": "stdout",
     "output_type": "stream",
     "text": [
      "                            OLS Regression Results                            \n",
      "==============================================================================\n",
      "Dep. Variable:                   crim   R-squared:                       0.400\n",
      "Model:                            OLS   Adj. R-squared:                  0.396\n",
      "Method:                 Least Squares   F-statistic:                     111.6\n",
      "Date:                Wed, 11 Oct 2017   Prob (F-statistic):           2.31e-55\n",
      "Time:                        13:23:39   Log-Likelihood:                -1677.1\n",
      "No. Observations:                 506   AIC:                             3362.\n",
      "Df Residuals:                     502   BIC:                             3379.\n",
      "Df Model:                           3                                         \n",
      "Covariance Type:            nonrobust                                         \n",
      "=================================================================================\n",
      "                    coef    std err          t      P>|t|      [0.025      0.975]\n",
      "---------------------------------------------------------------------------------\n",
      "Intercept        -0.6055      2.050     -0.295      0.768      -4.633       3.422\n",
      "rad               0.5127      1.044      0.491      0.623      -1.538       2.563\n",
      "I(rad ** 2.0)    -0.0752      0.149     -0.506      0.613      -0.367       0.217\n",
      "I(rad ** 3.0)     0.0032      0.005      0.703      0.482      -0.006       0.012\n",
      "==============================================================================\n",
      "Omnibus:                      659.751   Durbin-Watson:                   1.351\n",
      "Prob(Omnibus):                  0.000   Jarque-Bera (JB):            77838.247\n",
      "Skew:                           6.526   Prob(JB):                         0.00\n",
      "Kurtosis:                      62.343   Cond. No.                     5.43e+04\n",
      "==============================================================================\n",
      "\n",
      "Warnings:\n",
      "[1] Standard Errors assume that the covariance matrix of the errors is correctly specified.\n",
      "[2] The condition number is large, 5.43e+04. This might indicate that there are\n",
      "strong multicollinearity or other numerical problems.\n"
     ]
    }
   ],
   "source": [
    "mod = smf.ols(formula='crim ~ rad + I(rad ** 2.0) + I(rad ** 3.0)', data=boston)\n",
    "res = mod.fit()\n",
    "print(res.summary())"
   ]
  },
  {
   "cell_type": "code",
   "execution_count": 83,
   "metadata": {},
   "outputs": [
    {
     "name": "stdout",
     "output_type": "stream",
     "text": [
      "                            OLS Regression Results                            \n",
      "==============================================================================\n",
      "Dep. Variable:                   crim   R-squared:                       0.369\n",
      "Model:                            OLS   Adj. R-squared:                  0.365\n",
      "Method:                 Least Squares   F-statistic:                     97.80\n",
      "Date:                Wed, 11 Oct 2017   Prob (F-statistic):           7.34e-50\n",
      "Time:                        13:23:52   Log-Likelihood:                -1689.9\n",
      "No. Observations:                 506   AIC:                             3388.\n",
      "Df Residuals:                     502   BIC:                             3405.\n",
      "Df Model:                           3                                         \n",
      "Covariance Type:            nonrobust                                         \n",
      "=================================================================================\n",
      "                    coef    std err          t      P>|t|      [0.025      0.975]\n",
      "---------------------------------------------------------------------------------\n",
      "Intercept        19.1836     11.796      1.626      0.105      -3.991      42.358\n",
      "tax              -0.1533      0.096     -1.602      0.110      -0.341       0.035\n",
      "I(tax ** 2.0)     0.0004      0.000      1.488      0.137      -0.000       0.001\n",
      "I(tax ** 3.0) -2.204e-07   1.89e-07     -1.167      0.244   -5.91e-07    1.51e-07\n",
      "==============================================================================\n",
      "Omnibus:                      644.161   Durbin-Watson:                   1.293\n",
      "Prob(Omnibus):                  0.000   Jarque-Bera (JB):            69773.212\n",
      "Skew:                           6.278   Prob(JB):                         0.00\n",
      "Kurtosis:                      59.141   Cond. No.                     6.16e+09\n",
      "==============================================================================\n",
      "\n",
      "Warnings:\n",
      "[1] Standard Errors assume that the covariance matrix of the errors is correctly specified.\n",
      "[2] The condition number is large, 6.16e+09. This might indicate that there are\n",
      "strong multicollinearity or other numerical problems.\n"
     ]
    }
   ],
   "source": [
    "mod = smf.ols(formula='crim ~ tax + I(tax ** 2.0) + I(tax ** 3.0)', data=boston)\n",
    "res = mod.fit()\n",
    "print(res.summary())"
   ]
  },
  {
   "cell_type": "code",
   "execution_count": 84,
   "metadata": {},
   "outputs": [
    {
     "name": "stdout",
     "output_type": "stream",
     "text": [
      "                            OLS Regression Results                            \n",
      "==============================================================================\n",
      "Dep. Variable:                   crim   R-squared:                       0.114\n",
      "Model:                            OLS   Adj. R-squared:                  0.108\n",
      "Method:                 Least Squares   F-statistic:                     21.48\n",
      "Date:                Wed, 11 Oct 2017   Prob (F-statistic):           4.17e-13\n",
      "Time:                        13:24:23   Log-Likelihood:                -1775.8\n",
      "No. Observations:                 506   AIC:                             3560.\n",
      "Df Residuals:                     502   BIC:                             3577.\n",
      "Df Model:                           3                                         \n",
      "Covariance Type:            nonrobust                                         \n",
      "=====================================================================================\n",
      "                        coef    std err          t      P>|t|      [0.025      0.975]\n",
      "-------------------------------------------------------------------------------------\n",
      "Intercept           477.1840    156.795      3.043      0.002     169.129     785.239\n",
      "ptratio             -82.3605     27.644     -2.979      0.003    -136.673     -28.048\n",
      "I(ptratio ** 2.0)     4.6353      1.608      2.882      0.004       1.475       7.795\n",
      "I(ptratio ** 3.0)    -0.0848      0.031     -2.743      0.006      -0.145      -0.024\n",
      "==============================================================================\n",
      "Omnibus:                      572.356   Durbin-Watson:                   0.945\n",
      "Prob(Omnibus):                  0.000   Jarque-Bera (JB):            36070.763\n",
      "Skew:                           5.294   Prob(JB):                         0.00\n",
      "Kurtosis:                      42.985   Cond. No.                     3.02e+06\n",
      "==============================================================================\n",
      "\n",
      "Warnings:\n",
      "[1] Standard Errors assume that the covariance matrix of the errors is correctly specified.\n",
      "[2] The condition number is large, 3.02e+06. This might indicate that there are\n",
      "strong multicollinearity or other numerical problems.\n"
     ]
    }
   ],
   "source": [
    "mod = smf.ols(formula='crim ~ ptratio + I(ptratio ** 2.0) + I(ptratio ** 3.0)', data=boston)\n",
    "res = mod.fit()\n",
    "print(res.summary())"
   ]
  },
  {
   "cell_type": "code",
   "execution_count": 85,
   "metadata": {},
   "outputs": [
    {
     "name": "stdout",
     "output_type": "stream",
     "text": [
      "                            OLS Regression Results                            \n",
      "==============================================================================\n",
      "Dep. Variable:                   crim   R-squared:                       0.150\n",
      "Model:                            OLS   Adj. R-squared:                  0.145\n",
      "Method:                 Least Squares   F-statistic:                     29.49\n",
      "Date:                Wed, 11 Oct 2017   Prob (F-statistic):           1.41e-17\n",
      "Time:                        13:24:55   Log-Likelihood:                -1765.3\n",
      "No. Observations:                 506   AIC:                             3539.\n",
      "Df Residuals:                     502   BIC:                             3555.\n",
      "Df Model:                           3                                         \n",
      "Covariance Type:            nonrobust                                         \n",
      "===================================================================================\n",
      "                      coef    std err          t      P>|t|      [0.025      0.975]\n",
      "-----------------------------------------------------------------------------------\n",
      "Intercept          18.2637      2.305      7.924      0.000      13.735      22.792\n",
      "black              -0.0836      0.056     -1.483      0.139      -0.194       0.027\n",
      "I(black ** 2.0)     0.0002      0.000      0.716      0.474      -0.000       0.001\n",
      "I(black ** 3.0) -2.652e-07   4.36e-07     -0.608      0.544   -1.12e-06    5.92e-07\n",
      "==============================================================================\n",
      "Omnibus:                      591.816   Durbin-Watson:                   0.983\n",
      "Prob(Omnibus):                  0.000   Jarque-Bera (JB):            43468.746\n",
      "Skew:                           5.544   Prob(JB):                         0.00\n",
      "Kurtosis:                      47.032   Cond. No.                     3.59e+08\n",
      "==============================================================================\n",
      "\n",
      "Warnings:\n",
      "[1] Standard Errors assume that the covariance matrix of the errors is correctly specified.\n",
      "[2] The condition number is large, 3.59e+08. This might indicate that there are\n",
      "strong multicollinearity or other numerical problems.\n"
     ]
    }
   ],
   "source": [
    "mod = smf.ols(formula='crim ~ black + I(black ** 2.0) + I(black ** 3.0)', data=boston)\n",
    "res = mod.fit()\n",
    "print(res.summary())"
   ]
  },
  {
   "cell_type": "code",
   "execution_count": 86,
   "metadata": {},
   "outputs": [
    {
     "name": "stdout",
     "output_type": "stream",
     "text": [
      "                            OLS Regression Results                            \n",
      "==============================================================================\n",
      "Dep. Variable:                   crim   R-squared:                       0.218\n",
      "Model:                            OLS   Adj. R-squared:                  0.213\n",
      "Method:                 Least Squares   F-statistic:                     46.63\n",
      "Date:                Wed, 11 Oct 2017   Prob (F-statistic):           1.35e-26\n",
      "Time:                        13:25:18   Log-Likelihood:                -1744.2\n",
      "No. Observations:                 506   AIC:                             3496.\n",
      "Df Residuals:                     502   BIC:                             3513.\n",
      "Df Model:                           3                                         \n",
      "Covariance Type:            nonrobust                                         \n",
      "===================================================================================\n",
      "                      coef    std err          t      P>|t|      [0.025      0.975]\n",
      "-----------------------------------------------------------------------------------\n",
      "Intercept           1.2010      2.029      0.592      0.554      -2.785       5.187\n",
      "lstat              -0.4491      0.465     -0.966      0.335      -1.362       0.464\n",
      "I(lstat ** 2.0)     0.0558      0.030      1.852      0.065      -0.003       0.115\n",
      "I(lstat ** 3.0)    -0.0009      0.001     -1.517      0.130      -0.002       0.000\n",
      "==============================================================================\n",
      "Omnibus:                      607.734   Durbin-Watson:                   1.239\n",
      "Prob(Omnibus):                  0.000   Jarque-Bera (JB):            53621.219\n",
      "Skew:                           5.726   Prob(JB):                         0.00\n",
      "Kurtosis:                      52.114   Cond. No.                     5.20e+04\n",
      "==============================================================================\n",
      "\n",
      "Warnings:\n",
      "[1] Standard Errors assume that the covariance matrix of the errors is correctly specified.\n",
      "[2] The condition number is large, 5.2e+04. This might indicate that there are\n",
      "strong multicollinearity or other numerical problems.\n"
     ]
    }
   ],
   "source": [
    "mod = smf.ols(formula='crim ~ lstat + I(lstat ** 2.0) + I(lstat ** 3.0)', data=boston)\n",
    "res = mod.fit()\n",
    "print(res.summary())"
   ]
  },
  {
   "cell_type": "code",
   "execution_count": 87,
   "metadata": {},
   "outputs": [
    {
     "name": "stdout",
     "output_type": "stream",
     "text": [
      "                            OLS Regression Results                            \n",
      "==============================================================================\n",
      "Dep. Variable:                   crim   R-squared:                       0.420\n",
      "Model:                            OLS   Adj. R-squared:                  0.417\n",
      "Method:                 Least Squares   F-statistic:                     121.3\n",
      "Date:                Wed, 11 Oct 2017   Prob (F-statistic):           4.45e-59\n",
      "Time:                        13:25:38   Log-Likelihood:                -1668.5\n",
      "No. Observations:                 506   AIC:                             3345.\n",
      "Df Residuals:                     502   BIC:                             3362.\n",
      "Df Model:                           3                                         \n",
      "Covariance Type:            nonrobust                                         \n",
      "==================================================================================\n",
      "                     coef    std err          t      P>|t|      [0.025      0.975]\n",
      "----------------------------------------------------------------------------------\n",
      "Intercept         53.1655      3.356     15.840      0.000      46.571      59.760\n",
      "medv              -5.0948      0.434    -11.744      0.000      -5.947      -4.242\n",
      "I(medv ** 2.0)     0.1555      0.017      9.046      0.000       0.122       0.189\n",
      "I(medv ** 3.0)    -0.0015      0.000     -7.312      0.000      -0.002      -0.001\n",
      "==============================================================================\n",
      "Omnibus:                      569.730   Durbin-Watson:                   1.359\n",
      "Prob(Omnibus):                  0.000   Jarque-Bera (JB):            47929.717\n",
      "Skew:                           5.106   Prob(JB):                         0.00\n",
      "Kurtosis:                      49.573   Cond. No.                     3.67e+05\n",
      "==============================================================================\n",
      "\n",
      "Warnings:\n",
      "[1] Standard Errors assume that the covariance matrix of the errors is correctly specified.\n",
      "[2] The condition number is large, 3.67e+05. This might indicate that there are\n",
      "strong multicollinearity or other numerical problems.\n"
     ]
    }
   ],
   "source": [
    "mod = smf.ols(formula='crim ~ medv + I(medv ** 2.0) + I(medv ** 3.0)', data=boston)\n",
    "res = mod.fit()\n",
    "print(res.summary())"
   ]
  },
  {
   "cell_type": "markdown",
   "metadata": {},
   "source": [
    "For “zn”, “rm”, “rad”, “tax” and “lstat” as predictor, the p-values suggest that the cubic coefficient is not \n",
    "statistically significant; for “indus”, “nox”, “age”, “dis”, “ptratio” and “medv” as predictor, the p-values suggest \n",
    "the adequacy of the cubic fit. For “black” as predictor, the p-values suggest that both the quandratic and cubic \n",
    "coefficients are not statistically significant."
   ]
  },
  {
   "cell_type": "code",
   "execution_count": null,
   "metadata": {
    "collapsed": true
   },
   "outputs": [],
   "source": []
  }
 ],
 "metadata": {
  "kernelspec": {
   "display_name": "Python 2",
   "language": "python",
   "name": "python2"
  },
  "language_info": {
   "codemirror_mode": {
    "name": "ipython",
    "version": 2
   },
   "file_extension": ".py",
   "mimetype": "text/x-python",
   "name": "python",
   "nbconvert_exporter": "python",
   "pygments_lexer": "ipython2",
   "version": "2.7.13"
  }
 },
 "nbformat": 4,
 "nbformat_minor": 2
}
